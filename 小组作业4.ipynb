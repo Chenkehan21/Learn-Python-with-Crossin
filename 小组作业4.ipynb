{
 "cells": [
  {
   "cell_type": "markdown",
   "metadata": {},
   "source": [
    "# if条件判断\n",
    "money = 88\n",
    "\n",
    "当 money 的值大于 100 时，输出 \"rich\"\n",
    "否则，输出 \"poor\"\n",
    "\n",
    "if \n",
    "    print(\"rich\")"
   ]
  },
  {
   "cell_type": "code",
   "execution_count": 5,
   "metadata": {
    "ExecuteTime": {
     "end_time": "2020-01-31T06:50:05.673565Z",
     "start_time": "2020-01-31T06:50:04.658450Z"
    }
   },
   "outputs": [
    {
     "name": "stdout",
     "output_type": "stream",
     "text": [
      "Tell me how much money do you have?120\n",
      "You have: 120.00$ \n",
      "\n",
      "rich\n"
     ]
    }
   ],
   "source": [
    "money = eval(input(\"Tell me how much money do you have?\"))\n",
    "print(\"You have: %.2f$\" % money, '\\n')\n",
    "if money > 100:\n",
    "    print(\"rich\")\n",
    "else:\n",
    "    print(\"poor\")"
   ]
  },
  {
   "cell_type": "markdown",
   "metadata": {},
   "source": [
    "# 逻辑判断\n",
    "判断下面示例是否会输出 True 并亲自验证"
   ]
  },
  {
   "cell_type": "code",
   "execution_count": 6,
   "metadata": {
    "ExecuteTime": {
     "end_time": "2020-01-31T06:50:59.936058Z",
     "start_time": "2020-01-31T06:50:59.932092Z"
    }
   },
   "outputs": [
    {
     "name": "stdout",
     "output_type": "stream",
     "text": [
      "True\n"
     ]
    }
   ],
   "source": [
    "bingo = False\n",
    "if bingo == False:\n",
    "    print(True)\n",
    "else:\n",
    "    print(False)"
   ]
  },
  {
   "cell_type": "code",
   "execution_count": 7,
   "metadata": {
    "ExecuteTime": {
     "end_time": "2020-01-31T06:51:11.893132Z",
     "start_time": "2020-01-31T06:51:11.889192Z"
    }
   },
   "outputs": [
    {
     "name": "stdout",
     "output_type": "stream",
     "text": [
      "False\n"
     ]
    }
   ],
   "source": [
    "b = 3\n",
    "if b - 3:\n",
    "    print(True)\n",
    "else:\n",
    "    print(False)"
   ]
  },
  {
   "cell_type": "code",
   "execution_count": 8,
   "metadata": {
    "ExecuteTime": {
     "end_time": "2020-01-31T06:51:21.589639Z",
     "start_time": "2020-01-31T06:51:19.336295Z"
    }
   },
   "outputs": [
    {
     "name": "stdout",
     "output_type": "stream",
     "text": [
      "请输入内容2\n",
      "True\n"
     ]
    }
   ],
   "source": [
    "x = input('请输入内容')\n",
    "if x:\n",
    "    print(True)\n",
    "else:\n",
    "    print(False)"
   ]
  },
  {
   "cell_type": "code",
   "execution_count": 9,
   "metadata": {
    "ExecuteTime": {
     "end_time": "2020-01-31T06:51:32.791880Z",
     "start_time": "2020-01-31T06:51:32.787918Z"
    }
   },
   "outputs": [
    {
     "name": "stdout",
     "output_type": "stream",
     "text": [
      "False\n",
      "True\n",
      "False\n",
      "True\n",
      "False\n",
      "True\n",
      "False\n"
     ]
    }
   ],
   "source": [
    "a = True\n",
    "b = not a\n",
    "print(b)\n",
    "print(not b)\n",
    "print(a == b)\n",
    "print(a != b)\n",
    "print(a and b)\n",
    "print(a or b)\n",
    "print(1<2 and b==True)"
   ]
  },
  {
   "cell_type": "markdown",
   "metadata": {},
   "source": [
    "# BMI 计算器\n",
    "BMI 指数（即身体质量指数，简称体质指数又称体重，英文为Body Mass Index，简称BMI），是用体重公斤数除以身高米数平方得出的数字\n",
    "\n",
    "BMI < 18.5 体重偏轻 18.5 <= BMI < 24 体重正常 BMI >= 24 体重偏重 设计一个BMI计算器吧，看看自己体重是否正常。\n",
    "\n",
    "输入：身高、体重值\n",
    "\n",
    "输出：BMI 指数、是否正常"
   ]
  },
  {
   "cell_type": "code",
   "execution_count": 10,
   "metadata": {
    "ExecuteTime": {
     "end_time": "2020-01-31T06:52:31.278507Z",
     "start_time": "2020-01-31T06:52:22.663289Z"
    }
   },
   "outputs": [
    {
     "name": "stdout",
     "output_type": "stream",
     "text": [
      "Please input your height (meter): 1.72\n",
      "Please input your weight (kilogram): 56\n",
      "Your BMI is 18.93 You are normal weight!\n"
     ]
    }
   ],
   "source": [
    "height = eval(input(\"Please input your height (meter): \"))\n",
    "weight = eval(input(\"Please input your weight (kilogram): \"))\n",
    "def BMI(height, weight):\n",
    "    temp = weight / (height ** 2)\n",
    "    if temp < 18.5:\n",
    "        print(\"Your BMI is %.2f \" % temp + \"You are underweight!\")\n",
    "    elif temp >= 18.5 and temp < 24:\n",
    "        print(\"Your BMI is %.2f \" % temp + \"You are normal weight!\")\n",
    "    else:\n",
    "        print(\"Your BMI is %.2f \" % temp + \"You are overweight!\")\n",
    "BMI(height, weight)"
   ]
  }
 ],
 "metadata": {
  "kernelspec": {
   "display_name": "Python 3",
   "language": "python",
   "name": "python3"
  },
  "language_info": {
   "codemirror_mode": {
    "name": "ipython",
    "version": 3
   },
   "file_extension": ".py",
   "mimetype": "text/x-python",
   "name": "python",
   "nbconvert_exporter": "python",
   "pygments_lexer": "ipython3",
   "version": "3.7.3"
  },
  "toc": {
   "base_numbering": 1,
   "nav_menu": {},
   "number_sections": true,
   "sideBar": true,
   "skip_h1_title": false,
   "title_cell": "Table of Contents",
   "title_sidebar": "Contents",
   "toc_cell": false,
   "toc_position": {},
   "toc_section_display": true,
   "toc_window_display": false
  }
 },
 "nbformat": 4,
 "nbformat_minor": 2
}
