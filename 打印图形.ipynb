{
 "cells": [
  {
   "cell_type": "markdown",
   "metadata": {},
   "source": [
    "# 【问题描述】\n",
    "用符号的组合在控制台输出不同大小的矩形图案。\n",
    "\n",
    "要求：写一个输出矩形的函数，该函数拥有三个默认参数\n",
    "\n",
    "矩形的长，默认值为 5\n",
    "矩形的宽，默认值为 5\n",
    "组成图形的符号，默认值为 *\n",
    "为函数添加不同的参数，输出三个不同类型的矩形。"
   ]
  },
  {
   "cell_type": "code",
   "execution_count": 5,
   "metadata": {
    "ExecuteTime": {
     "end_time": "2020-01-28T07:19:14.525338Z",
     "start_time": "2020-01-28T07:19:14.518383Z"
    }
   },
   "outputs": [
    {
     "name": "stdout",
     "output_type": "stream",
     "text": [
      "*****\n",
      "*****\n",
      "*****\n",
      "*****\n",
      "*****\n",
      "***\n",
      "***\n",
      "***\n",
      "***\n",
      "!!!!!!\n",
      "!!!!!!\n"
     ]
    }
   ],
   "source": [
    "def Rectangle(length = 5, width = 5, notation = '*'):\n",
    "    for i in range(1, length + 1):\n",
    "        for j in range(1, width +1):\n",
    "            print(notation, end='')\n",
    "        print('')\n",
    "Rectangle()\n",
    "Rectangle(4, 3)\n",
    "Rectangle(2, 6, '!')"
   ]
  }
 ],
 "metadata": {
  "kernelspec": {
   "display_name": "Python 3",
   "language": "python",
   "name": "python3"
  },
  "language_info": {
   "codemirror_mode": {
    "name": "ipython",
    "version": 3
   },
   "file_extension": ".py",
   "mimetype": "text/x-python",
   "name": "python",
   "nbconvert_exporter": "python",
   "pygments_lexer": "ipython3",
   "version": "3.7.3"
  },
  "toc": {
   "base_numbering": 1,
   "nav_menu": {},
   "number_sections": true,
   "sideBar": true,
   "skip_h1_title": false,
   "title_cell": "Table of Contents",
   "title_sidebar": "Contents",
   "toc_cell": false,
   "toc_position": {},
   "toc_section_display": true,
   "toc_window_display": false
  }
 },
 "nbformat": 4,
 "nbformat_minor": 2
}
