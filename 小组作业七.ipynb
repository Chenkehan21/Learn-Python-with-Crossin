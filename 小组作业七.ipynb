{
 "cells": [
  {
   "cell_type": "markdown",
   "metadata": {},
   "source": [
    "# 创建一个列表 lst，其中的元素依次是 1，2，3\n",
    "\n",
    "输出 lst 中的第一个元素 1\n",
    "\n",
    "将 lst 的第二个元素 2 改为 4\n",
    "\n",
    "\n",
    "在 lst 末尾再增加一个元素 5"
   ]
  },
  {
   "cell_type": "code",
   "execution_count": 1,
   "metadata": {
    "ExecuteTime": {
     "end_time": "2020-02-04T11:39:14.708516Z",
     "start_time": "2020-02-04T11:39:14.698561Z"
    }
   },
   "outputs": [
    {
     "name": "stdout",
     "output_type": "stream",
     "text": [
      "1\n",
      "[1, 4, 3, 5]\n"
     ]
    }
   ],
   "source": [
    "lst = [1, 2, 3]\n",
    "print(lst[0])\n",
    "lst[1] = 4\n",
    "lst.append(5)\n",
    "print(lst)"
   ]
  },
  {
   "cell_type": "markdown",
   "metadata": {},
   "source": [
    "# lst = [365, 'everyday', 0.618, True, 2, 5]\n",
    "\n",
    "取出 lst 的第二个位置至倒数第二个位置的子串\n",
    "\n",
    "创建为一个新列表 lst2\n",
    "lst2 = lst\n",
    "print(lst2)"
   ]
  },
  {
   "cell_type": "code",
   "execution_count": 2,
   "metadata": {
    "ExecuteTime": {
     "end_time": "2020-02-04T11:41:10.307564Z",
     "start_time": "2020-02-04T11:41:10.304048Z"
    }
   },
   "outputs": [
    {
     "name": "stdout",
     "output_type": "stream",
     "text": [
      "2\n",
      "[365, 'everyday', 0.618, True, 2, 5]\n"
     ]
    }
   ],
   "source": [
    "lst2 = [365, 'everyday', 0.618, True, 2, 5]\n",
    "print(lst2[-2])\n",
    "lst3 = lst2\n",
    "print(lst3)"
   ]
  },
  {
   "cell_type": "markdown",
   "metadata": {},
   "source": [
    "# word = 'I am Mr Crossin of Python'\n",
    "\n",
    "将字符串 word 按照空格分割成一个列表\n",
    "\n",
    "lst = word\n",
    "\n",
    "print(lst)\n",
    "\n",
    "再将分割后的列表以逗号(,)重新拼接成字符串\n",
    "word = ','\n",
    "\n",
    "print(word)"
   ]
  },
  {
   "cell_type": "code",
   "execution_count": null,
   "metadata": {},
   "outputs": [],
   "source": [
    "word = 'I am Mr Crossin of Python'"
   ]
  }
 ],
 "metadata": {
  "kernelspec": {
   "display_name": "Python 3",
   "language": "python",
   "name": "python3"
  },
  "language_info": {
   "codemirror_mode": {
    "name": "ipython",
    "version": 3
   },
   "file_extension": ".py",
   "mimetype": "text/x-python",
   "name": "python",
   "nbconvert_exporter": "python",
   "pygments_lexer": "ipython3",
   "version": "3.7.3"
  },
  "toc": {
   "base_numbering": 1,
   "nav_menu": {},
   "number_sections": true,
   "sideBar": true,
   "skip_h1_title": false,
   "title_cell": "Table of Contents",
   "title_sidebar": "Contents",
   "toc_cell": false,
   "toc_position": {},
   "toc_section_display": true,
   "toc_window_display": false
  }
 },
 "nbformat": 4,
 "nbformat_minor": 2
}
