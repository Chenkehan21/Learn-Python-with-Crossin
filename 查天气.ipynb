{
 "cells": [
  {
   "cell_type": "code",
   "execution_count": 9,
   "metadata": {
    "ExecuteTime": {
     "end_time": "2020-01-31T05:45:18.316048Z",
     "start_time": "2020-01-31T05:45:18.256930Z"
    }
   },
   "outputs": [
    {
     "name": "stdout",
     "output_type": "stream",
     "text": [
      "{\"data\":{\"yesterday\":{\"date\":\"30日星期四\",\"high\":\"高温 6℃\",\"fx\":\"西南风\",\"low\":\"低温 -6℃\",\"fl\":\"<![CDATA[<3级]]>\",\"type\":\"晴\"},\"city\":\"北京\",\"forecast\":[{\"date\":\"31日星期五\",\"high\":\"高温 7℃\",\"fengli\":\"<![CDATA[<3级]]>\",\"low\":\"低温 -5℃\",\"fengxiang\":\"北风\",\"type\":\"晴\"},{\"date\":\"1日星期六\",\"high\":\"高温 5℃\",\"fengli\":\"<![CDATA[<3级]]>\",\"low\":\"低温 -3℃\",\"fengxiang\":\"北风\",\"type\":\"多云\"},{\"date\":\"2日星期天\",\"high\":\"高温 3℃\",\"fengli\":\"<![CDATA[<3级]]>\",\"low\":\"低温 -6℃\",\"fengxiang\":\"西北风\",\"type\":\"多云\"},{\"date\":\"3日星期一\",\"high\":\"高温 1℃\",\"fengli\":\"<![CDATA[3-4级]]>\",\"low\":\"低温 -7℃\",\"fengxiang\":\"西南风\",\"type\":\"多云\"},{\"date\":\"4日星期二\",\"high\":\"高温 2℃\",\"fengli\":\"<![CDATA[<3级]]>\",\"low\":\"低温 -7℃\",\"fengxiang\":\"东南风\",\"type\":\"晴\"}],\"ganmao\":\"昼夜温差很大，易发生感冒，请注意适当增减衣服，加强自我防护避免感冒。\",\"wendu\":\"5\"},\"status\":1000,\"desc\":\"OK\"} <class 'str'>\n",
      "\n",
      "\n",
      "{'data': {'yesterday': {'date': '30日星期四', 'high': '高温 6℃', 'fx': '西南风', 'low': '低温 -6℃', 'fl': '<![CDATA[<3级]]>', 'type': '晴'}, 'city': '北京', 'forecast': [{'date': '31日星期五', 'high': '高温 7℃', 'fengli': '<![CDATA[<3级]]>', 'low': '低温 -5℃', 'fengxiang': '北风', 'type': '晴'}, {'date': '1日星期六', 'high': '高温 5℃', 'fengli': '<![CDATA[<3级]]>', 'low': '低温 -3℃', 'fengxiang': '北风', 'type': '多云'}, {'date': '2日星期天', 'high': '高温 3℃', 'fengli': '<![CDATA[<3级]]>', 'low': '低温 -6℃', 'fengxiang': '西北风', 'type': '多云'}, {'date': '3日星期一', 'high': '高温 1℃', 'fengli': '<![CDATA[3-4级]]>', 'low': '低温 -7℃', 'fengxiang': '西南风', 'type': '多云'}, {'date': '4日星期二', 'high': '高温 2℃', 'fengli': '<![CDATA[<3级]]>', 'low': '低温 -7℃', 'fengxiang': '东南风', 'type': '晴'}], 'ganmao': '昼夜温差很大，易发生感冒，请注意适当增减衣服，加强自我防护避免感冒。', 'wendu': '5'}, 'status': 1000, 'desc': 'OK'} <class 'dict'>\n",
      "\n",
      "\n",
      "{'yesterday': {'date': '30日星期四', 'high': '高温 6℃', 'fx': '西南风', 'low': '低温 -6℃', 'fl': '<![CDATA[<3级]]>', 'type': '晴'}, 'city': '北京', 'forecast': [{'date': '31日星期五', 'high': '高温 7℃', 'fengli': '<![CDATA[<3级]]>', 'low': '低温 -5℃', 'fengxiang': '北风', 'type': '晴'}, {'date': '1日星期六', 'high': '高温 5℃', 'fengli': '<![CDATA[<3级]]>', 'low': '低温 -3℃', 'fengxiang': '北风', 'type': '多云'}, {'date': '2日星期天', 'high': '高温 3℃', 'fengli': '<![CDATA[<3级]]>', 'low': '低温 -6℃', 'fengxiang': '西北风', 'type': '多云'}, {'date': '3日星期一', 'high': '高温 1℃', 'fengli': '<![CDATA[3-4级]]>', 'low': '低温 -7℃', 'fengxiang': '西南风', 'type': '多云'}, {'date': '4日星期二', 'high': '高温 2℃', 'fengli': '<![CDATA[<3级]]>', 'low': '低温 -7℃', 'fengxiang': '东南风', 'type': '晴'}], 'ganmao': '昼夜温差很大，易发生感冒，请注意适当增减衣服，加强自我防护避免感冒。', 'wendu': '5'}\n",
      "\n",
      "\n",
      "[{'date': '31日星期五', 'high': '高温 7℃', 'fengli': '<![CDATA[<3级]]>', 'low': '低温 -5℃', 'fengxiang': '北风', 'type': '晴'}, {'date': '1日星期六', 'high': '高温 5℃', 'fengli': '<![CDATA[<3级]]>', 'low': '低温 -3℃', 'fengxiang': '北风', 'type': '多云'}, {'date': '2日星期天', 'high': '高温 3℃', 'fengli': '<![CDATA[<3级]]>', 'low': '低温 -6℃', 'fengxiang': '西北风', 'type': '多云'}, {'date': '3日星期一', 'high': '高温 1℃', 'fengli': '<![CDATA[3-4级]]>', 'low': '低温 -7℃', 'fengxiang': '西南风', 'type': '多云'}, {'date': '4日星期二', 'high': '高温 2℃', 'fengli': '<![CDATA[<3级]]>', 'low': '低温 -7℃', 'fengxiang': '东南风', 'type': '晴'}]\n",
      "\n",
      "\n",
      "{'date': '31日星期五', 'high': '高温 7℃', 'fengli': '<![CDATA[<3级]]>', 'low': '低温 -5℃', 'fengxiang': '北风', 'type': '晴'}\n"
     ]
    }
   ],
   "source": [
    "import requests\n",
    "\n",
    "url1 = \"http://wthrcdn.etouch.cn/weather_mini?city=北京\"\n",
    "re1 = requests.get(url1)\n",
    "info = re1.json()\n",
    "print(re1.text, type(re1.text))\n",
    "print('\\n')\n",
    "print(info, type(info))\n",
    "print('\\n')\n",
    "city_data = info.get('data')\n",
    "print(city_data)\n",
    "print('\\n')\n",
    "print(city_data['forecast'])\n",
    "print('\\n')\n",
    "city_forecast = city_data['forecast'][0]\n",
    "print(city_forecast)\n"
   ]
  },
  {
   "cell_type": "code",
   "execution_count": 11,
   "metadata": {
    "ExecuteTime": {
     "end_time": "2020-01-31T05:46:21.255082Z",
     "start_time": "2020-01-31T05:46:21.251610Z"
    }
   },
   "outputs": [
    {
     "name": "stdout",
     "output_type": "stream",
     "text": [
      "31日星期五\n",
      "高温 7℃\n",
      "低温 -5℃\n",
      "晴\n"
     ]
    }
   ],
   "source": [
    "print(city_forecast.get('date'))\n",
    "print(city_forecast.get('high'))\n",
    "print(city_forecast.get('low'))\n",
    "print(city_forecast.get('type'))"
   ]
  },
  {
   "cell_type": "code",
   "execution_count": 13,
   "metadata": {
    "ExecuteTime": {
     "end_time": "2020-01-31T06:03:34.450372Z",
     "start_time": "2020-01-31T06:01:14.023806Z"
    }
   },
   "outputs": [
    {
     "name": "stdout",
     "output_type": "stream",
     "text": [
      "Please enter a city(Press 'Enter' quit): \n",
      "上海\n",
      "31日星期五\n",
      "高温 8℃\n",
      "低温 2℃\n",
      "晴\n",
      "Please enter a city(Press 'Enter' quit): \n",
      "北京\n",
      "31日星期五\n",
      "高温 7℃\n",
      "低温 -5℃\n",
      "晴\n",
      "Please enter a city(Press 'Enter' quit): \n",
      "无锡\n",
      "31日星期五\n",
      "高温 8℃\n",
      "低温 -1℃\n",
      "晴\n",
      "Please enter a city(Press 'Enter' quit): \n",
      "江阴\n",
      "31日星期五\n",
      "高温 8℃\n",
      "低温 -1℃\n",
      "晴\n",
      "Please enter a city(Press 'Enter' quit): \n",
      "常州\n",
      "31日星期五\n",
      "高温 8℃\n",
      "低温 -2℃\n",
      "晴\n",
      "Please enter a city(Press 'Enter' quit): \n",
      "哈尔滨\n",
      "31日星期五\n",
      "高温 -13℃\n",
      "低温 -28℃\n",
      "多云\n",
      "Please enter a city(Press 'Enter' quit): \n",
      "大连\n",
      "31日星期五\n",
      "高温 3℃\n",
      "低温 -4℃\n",
      "晴\n",
      "Please enter a city(Press 'Enter' quit): \n",
      "盘锦\n",
      "31日星期五\n",
      "高温 -1℃\n",
      "低温 -12℃\n",
      "晴\n",
      "Please enter a city(Press 'Enter' quit): \n",
      "内蒙古\n",
      "Error!\n",
      "Please enter a city(Press 'Enter' quit): \n",
      "海南\n",
      "31日星期五\n",
      "高温 -2℃\n",
      "低温 -12℃\n",
      "阴\n",
      "Please enter a city(Press 'Enter' quit): \n",
      "台湾\n",
      "Error!\n",
      "Please enter a city(Press 'Enter' quit): \n",
      "澳门\n",
      "31日星期五\n",
      "高温 18℃\n",
      "低温 13℃\n",
      "晴\n",
      "Please enter a city(Press 'Enter' quit): \n",
      "海南\n",
      "31日星期五\n",
      "高温 -2℃\n",
      "低温 -12℃\n",
      "阴\n",
      "Please enter a city(Press 'Enter' quit): \n",
      "济南\n",
      "31日星期五\n",
      "高温 10℃\n",
      "低温 -1℃\n",
      "晴\n",
      "Please enter a city(Press 'Enter' quit): \n",
      "连云港\n",
      "31日星期五\n",
      "高温 8℃\n",
      "低温 -3℃\n",
      "晴\n",
      "Please enter a city(Press 'Enter' quit): \n",
      "新疆\n",
      "Error!\n",
      "Please enter a city(Press 'Enter' quit): \n",
      "乌鲁木齐\n",
      "31日星期五\n",
      "高温 -7℃\n",
      "低温 -13℃\n",
      "晴\n",
      "Please enter a city(Press 'Enter' quit): \n",
      "齐齐哈尔\n",
      "31日星期五\n",
      "高温 -10℃\n",
      "低温 -25℃\n",
      "多云\n",
      "Please enter a city(Press 'Enter' quit): \n",
      "北京\n",
      "31日星期五\n",
      "高温 7℃\n",
      "低温 -5℃\n",
      "晴\n",
      "Please enter a city(Press 'Enter' quit): \n",
      "深圳\n",
      "31日星期五\n",
      "高温 18℃\n",
      "低温 11℃\n",
      "晴\n",
      "Please enter a city(Press 'Enter' quit): \n",
      "广州\n",
      "31日星期五\n",
      "高温 19℃\n",
      "低温 8℃\n",
      "晴\n",
      "Please enter a city(Press 'Enter' quit): \n",
      "云南\n",
      "Error!\n",
      "Please enter a city(Press 'Enter' quit): \n",
      "丽江\n",
      "31日星期五\n",
      "高温 10℃\n",
      "低温 1℃\n",
      "阵雨\n",
      "Please enter a city(Press 'Enter' quit): \n",
      "\n"
     ]
    }
   ],
   "source": [
    "while True:\n",
    "    city = input(\"Please enter a city(Press 'Enter' quit): \\n\")\n",
    "    if not city:\n",
    "        break\n",
    "    try:\n",
    "        url = \"http://wthrcdn.etouch.cn/weather_mini?city=%s\" % city\n",
    "        re = requests.get(url)\n",
    "    except:\n",
    "        print(\"Error!\")\n",
    "    city_info = re.json()\n",
    "    city_data = city_info.get('data')    \n",
    "    if city_data:\n",
    "        city_forecast = city_data['forecast'][0]\n",
    "        print(city_forecast.get('date'))\n",
    "        print(city_forecast.get('high'))\n",
    "        print(city_forecast.get('low'))\n",
    "        print(city_forecast.get('type'))\n",
    "    else:\n",
    "        print('Error!')"
   ]
  }
 ],
 "metadata": {
  "kernelspec": {
   "display_name": "Python 3",
   "language": "python",
   "name": "python3"
  },
  "language_info": {
   "codemirror_mode": {
    "name": "ipython",
    "version": 3
   },
   "file_extension": ".py",
   "mimetype": "text/x-python",
   "name": "python",
   "nbconvert_exporter": "python",
   "pygments_lexer": "ipython3",
   "version": "3.7.3"
  },
  "toc": {
   "base_numbering": 1,
   "nav_menu": {},
   "number_sections": true,
   "sideBar": true,
   "skip_h1_title": false,
   "title_cell": "Table of Contents",
   "title_sidebar": "Contents",
   "toc_cell": false,
   "toc_position": {},
   "toc_section_display": true,
   "toc_window_display": false
  }
 },
 "nbformat": 4,
 "nbformat_minor": 2
}
