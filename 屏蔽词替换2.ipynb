{
 "cells": [
  {
   "cell_type": "code",
   "execution_count": 9,
   "metadata": {
    "ExecuteTime": {
     "end_time": "2020-01-29T07:19:32.130103Z",
     "start_time": "2020-01-29T07:19:11.817133Z"
    },
    "scrolled": false
   },
   "outputs": [
    {
     "name": "stdout",
     "output_type": "stream",
     "text": [
      "Please write a sentence: edfaabceittt的大家可靠测试苏联空军啊啊啊啊dj\n",
      "edfa***ei***的大家可靠**苏联空军***啊dj\n"
     ]
    }
   ],
   "source": [
    "def Blocked_words(address = \"Block_worlds.txt\"):\n",
    "    global blocked_words\n",
    "    with open(address, 'r') as f:\n",
    "        f.seek(0)\n",
    "        blocked_words = [line.strip() for line in f.readlines() if line]\n",
    "    return blocked_words\n",
    "# line.strip() can remove ' ' and '\\n'\n",
    "# \"if line\" can assure that line is not blank!!!\n",
    "\n",
    "def Block(address = \"Block_worlds.txt\"):\n",
    "    Blocked_words(address)\n",
    "    text = input(\"Please write a sentence: \")\n",
    "    for info in blocked_words:\n",
    "        if info in text:\n",
    "            text = text.replace('%s' % info, '*' * len(info))\n",
    "    print(text)\n",
    "\n",
    "Block()"
   ]
  }
 ],
 "metadata": {
  "kernelspec": {
   "display_name": "Python 3",
   "language": "python",
   "name": "python3"
  },
  "language_info": {
   "codemirror_mode": {
    "name": "ipython",
    "version": 3
   },
   "file_extension": ".py",
   "mimetype": "text/x-python",
   "name": "python",
   "nbconvert_exporter": "python",
   "pygments_lexer": "ipython3",
   "version": "3.7.3"
  },
  "toc": {
   "base_numbering": 1,
   "nav_menu": {},
   "number_sections": true,
   "sideBar": true,
   "skip_h1_title": false,
   "title_cell": "Table of Contents",
   "title_sidebar": "Contents",
   "toc_cell": false,
   "toc_position": {},
   "toc_section_display": true,
   "toc_window_display": false
  }
 },
 "nbformat": 4,
 "nbformat_minor": 2
}
