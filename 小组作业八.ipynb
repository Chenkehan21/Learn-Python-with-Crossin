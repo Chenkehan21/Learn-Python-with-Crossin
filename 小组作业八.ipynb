{
 "cells": [
  {
   "cell_type": "markdown",
   "metadata": {},
   "source": [
    "# 创建一个字典，包含 one、two、three 三个键，对应的值分别为 1，2，3\n",
    "\n",
    "将 two 键对应的值改为 4"
   ]
  },
  {
   "cell_type": "code",
   "execution_count": 1,
   "metadata": {
    "ExecuteTime": {
     "end_time": "2020-02-04T11:54:53.396952Z",
     "start_time": "2020-02-04T11:54:53.386535Z"
    }
   },
   "outputs": [
    {
     "name": "stdout",
     "output_type": "stream",
     "text": [
      "{'one': 1, 'two': 2, 'three': 3}\n",
      "{'one': 1, 'two': 4, 'three': 3}\n"
     ]
    }
   ],
   "source": [
    "dict1 = {\n",
    "    'one': 1,\n",
    "    'two': 2,\n",
    "    'three': 3,\n",
    "}\n",
    "print(dict1)\n",
    "dict1['two'] = 4\n",
    "print(dict1)"
   ]
  },
  {
   "cell_type": "markdown",
   "metadata": {},
   "source": [
    "# 统计下这段文字里，不同单词出现的次数\n",
    "Beautiful is better than ugly Explicit is better than implicit Simple is better than complex Complex is better than complicated Flat is better than nested Sparse is better than dense"
   ]
  },
  {
   "cell_type": "code",
   "execution_count": 19,
   "metadata": {
    "ExecuteTime": {
     "end_time": "2020-02-04T12:09:02.655730Z",
     "start_time": "2020-02-04T12:09:02.650314Z"
    }
   },
   "outputs": [
    {
     "name": "stdout",
     "output_type": "stream",
     "text": [
      "Beautiful           1\n",
      "is                  6\n",
      "better              6\n",
      "than                6\n",
      "ugly                1\n",
      "Explicit            1\n",
      "implicit            1\n",
      "Simple              1\n",
      "complex             1\n",
      "Complex             1\n",
      "complicated         1\n",
      "Flat                1\n",
      "nested              1\n",
      "Sparse              1\n",
      "dense               1\n"
     ]
    }
   ],
   "source": [
    "text = 'Beautiful is better than ugly Explicit is better than implicit Simple is better than complex Complex is better than complicated Flat is better than nested Sparse is better than dense'\n",
    "count = {}\n",
    "info = text.split(' ')\n",
    "# dict.get(key[, value]); \n",
    "# value (optional) - Value to be returned if the key is not found. \n",
    "# The default value is None.\n",
    "for i in info:\n",
    "    count[i] = count.get(i, 0) + 1 \n",
    "iterm = list(count.items())\n",
    "for j in range(len(iterm)):\n",
    "    print(\"{:<18}{:>3}\".format(iterm[j][0], iterm[j][1]))"
   ]
  }
 ],
 "metadata": {
  "kernelspec": {
   "display_name": "Python 3",
   "language": "python",
   "name": "python3"
  },
  "language_info": {
   "codemirror_mode": {
    "name": "ipython",
    "version": 3
   },
   "file_extension": ".py",
   "mimetype": "text/x-python",
   "name": "python",
   "nbconvert_exporter": "python",
   "pygments_lexer": "ipython3",
   "version": "3.7.3"
  },
  "toc": {
   "base_numbering": 1,
   "nav_menu": {},
   "number_sections": true,
   "sideBar": true,
   "skip_h1_title": false,
   "title_cell": "Table of Contents",
   "title_sidebar": "Contents",
   "toc_cell": false,
   "toc_position": {},
   "toc_section_display": true,
   "toc_window_display": false
  }
 },
 "nbformat": 4,
 "nbformat_minor": 2
}
