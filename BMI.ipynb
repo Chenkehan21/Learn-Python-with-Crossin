{
 "cells": [
  {
   "cell_type": "markdown",
   "metadata": {},
   "source": [
    "# 【问题描述】\n",
    "BMI 指数（即身体质量指数，简称体质指数又称体重，英文为Body Mass Index，简称BMI），是用体重公斤数除以身高米数平方得出的数字\n",
    "\n",
    "BMI < 18.5 体重偏轻\n",
    "18.5 <= BMI < 24 体重正常\n",
    " BMI >= 24 体重偏重\n",
    "设计一个BMI计算器吧，看看自己体重是否正常。\n",
    "\n",
    "输入：身高、体重值\n",
    "\n",
    "输出：BMI 指数、是否正常"
   ]
  },
  {
   "cell_type": "code",
   "execution_count": 8,
   "metadata": {
    "ExecuteTime": {
     "end_time": "2020-01-28T02:19:44.606211Z",
     "start_time": "2020-01-28T02:19:39.823360Z"
    }
   },
   "outputs": [
    {
     "name": "stdout",
     "output_type": "stream",
     "text": [
      "Please input your height (meter): 1.72\n",
      "Please input your weight (kilogram): 56\n",
      "Your BMI is 18.93 You are normal weight!\n"
     ]
    }
   ],
   "source": [
    "height = eval(input(\"Please input your height (meter): \"))\n",
    "weight = eval(input(\"Please input your weight (kilogram): \"))\n",
    "def BMI(height, weight):\n",
    "    temp = weight / (height ** 2)\n",
    "    if temp < 18.5:\n",
    "        print(\"Your BMI is %.2f \" % temp + \"You are underweight!\")\n",
    "    elif temp >= 18.5 and temp < 24:\n",
    "        print(\"Your BMI is %.2f \" % temp + \"You are normal weight!\")\n",
    "    else:\n",
    "        print(\"Your BMI is %.2f \" % temp + \"You are overweight!\")\n",
    "BMI(height, weight)"
   ]
  }
 ],
 "metadata": {
  "kernelspec": {
   "display_name": "Python 3",
   "language": "python",
   "name": "python3"
  },
  "language_info": {
   "codemirror_mode": {
    "name": "ipython",
    "version": 3
   },
   "file_extension": ".py",
   "mimetype": "text/x-python",
   "name": "python",
   "nbconvert_exporter": "python",
   "pygments_lexer": "ipython3",
   "version": "3.7.3"
  },
  "toc": {
   "base_numbering": 1,
   "nav_menu": {},
   "number_sections": true,
   "sideBar": true,
   "skip_h1_title": false,
   "title_cell": "Table of Contents",
   "title_sidebar": "Contents",
   "toc_cell": false,
   "toc_position": {},
   "toc_section_display": true,
   "toc_window_display": false
  }
 },
 "nbformat": 4,
 "nbformat_minor": 2
}
