{
 "cells": [
  {
   "cell_type": "markdown",
   "metadata": {},
   "source": [
    "# Import"
   ]
  },
  {
   "cell_type": "code",
   "execution_count": 1,
   "metadata": {
    "ExecuteTime": {
     "end_time": "2020-02-04T06:04:54.822010Z",
     "start_time": "2020-02-04T06:04:54.681984Z"
    },
    "code_folding": []
   },
   "outputs": [],
   "source": [
    "import requests"
   ]
  },
  {
   "cell_type": "markdown",
   "metadata": {},
   "source": [
    "# Initialize\n",
    "attention: \n",
    "1. info is different from info2, info2 is a string, so we can use \"name in info2\" to check if we get a new player.\n",
    "\n",
    "2. After split info1, we can get the values' index by indexing \"name\"."
   ]
  },
  {
   "cell_type": "code",
   "execution_count": 10,
   "metadata": {
    "ExecuteTime": {
     "end_time": "2020-02-04T06:29:33.240571Z",
     "start_time": "2020-02-04T06:29:33.232669Z"
    },
    "code_folding": []
   },
   "outputs": [],
   "source": [
    "def initialize():\n",
    "    global name\n",
    "    name = input(\"Please tell me your name: \")\n",
    "    try:\n",
    "        with open(\"record.txt\", 'r+') as f:\n",
    "            f.seek(0)\n",
    "            info = [m.strip().split('\\t') for m in f.readlines()]\n",
    "            f.seek(0)\n",
    "            info2 = f.read()\n",
    "    except:\n",
    "        print(\"open failed!\")\n",
    "            \n",
    "    global played_rounds, played_least_times, played_ave_times, played_total_guess_times    \n",
    "    for i in info:\n",
    "        if name in i:\n",
    "            played_rounds = int(i[i.index(name) + 1])\n",
    "            played_least_times = int(i[i.index(name) + 2])\n",
    "            played_ave_times = float(i[i.index(name) + 3])\n",
    "            played_total_guess_times = played_rounds * played_ave_times\n",
    "            print(\"Hi %s, you have played %s rounds, you guessed the answer in at least %s times, \"\\\n",
    "                  \"you guessed the answer on average %s times each round.\"\n",
    "                  % (name, i[i.index(name) + 1], i[i.index(name) + 2], i[i.index(name) + 3]))\n",
    "            print(\"Let's start!\", '\\n')\n",
    "    if name not in info2:\n",
    "        try:\n",
    "            with open(\"record.txt\", 'a') as f:\n",
    "                f.seek(2)\n",
    "                f.write(\"%s\\t0\\t0\\t0\\n\" % name) # Creat a new record for new player.\n",
    "        except:\n",
    "            print(\"write failed!\")\n",
    "        played_rounds = 0\n",
    "        played_least_times = 0\n",
    "        played_ave_times = 0.0\n",
    "        played_total_guess_times = 0.0\n",
    "        print(\"%s you have played 0 round, you guessed the answer in at least 0 time, \"\\\n",
    "        \"you guess the answer on average 0 time each round.\" % name)\n",
    "        print(\"Let's start!\", '\\n')\n",
    "\n",
    "    print(\"You need to guess the number I think.\" + '\\n' + \"hint: It's an integer from 1 to 100\")\n",
    "    print('\\n' + \"Round1\")"
   ]
  },
  {
   "cell_type": "markdown",
   "metadata": {},
   "source": [
    "# Guess and check\n",
    "we must assure that players enter the right type and we won't count until they enter the right type."
   ]
  },
  {
   "cell_type": "code",
   "execution_count": 3,
   "metadata": {
    "ExecuteTime": {
     "end_time": "2020-02-04T06:05:00.038007Z",
     "start_time": "2020-02-04T06:05:00.034472Z"
    },
    "code_folding": []
   },
   "outputs": [],
   "source": [
    "def guess_and_check():\n",
    "    global guess_number\n",
    "    global Bingo\n",
    "    num_type = False\n",
    "    while num_type == False:\n",
    "        try:\n",
    "            guess_number = int(input(\"Please enter your answer: \")) # make sure players enter right type.\n",
    "        except:    \n",
    "            print(\"You must enter an integer!!!\")\n",
    "        else:\n",
    "            if type(guess_number) == int:\n",
    "                Bingo = False\n",
    "                break"
   ]
  },
  {
   "cell_type": "markdown",
   "metadata": {},
   "source": [
    "# Compare"
   ]
  },
  {
   "cell_type": "code",
   "execution_count": 4,
   "metadata": {
    "ExecuteTime": {
     "end_time": "2020-02-04T06:05:03.737511Z",
     "start_time": "2020-02-04T06:05:03.732554Z"
    },
    "code_folding": []
   },
   "outputs": [],
   "source": [
    "def compare(result, count):\n",
    "    guess_and_check()\n",
    "    if guess_number < result:\n",
    "        print(\"Too small!\")\n",
    "        return False\n",
    "    elif guess_number > result:\n",
    "        print(\"Too big!\")\n",
    "        return False\n",
    "    else:\n",
    "        print(\"Bingo!!!\")\n",
    "        print(\"You guessed %d times\" % count + '\\n')\n",
    "        num.append(count)\n",
    "        return replay()  # there must be \"return replay()\"!!! if omit \"return\", it doesn't work!!!"
   ]
  },
  {
   "cell_type": "markdown",
   "metadata": {},
   "source": [
    "# Replay\n",
    "If the player want to replay, we update the answer. Otherwise, we estimate their performance and end the game."
   ]
  },
  {
   "cell_type": "code",
   "execution_count": 21,
   "metadata": {
    "ExecuteTime": {
     "end_time": "2020-02-04T06:42:46.159295Z",
     "start_time": "2020-02-04T06:42:46.152846Z"
    },
    "code_folding": []
   },
   "outputs": [],
   "source": [
    "def replay():\n",
    "    global Round, count, result, minimum\n",
    "\n",
    "    restart = input(\"Do you want to replay? (Press 'Y' or 'y' to continue, press any other key to quit): \")\n",
    "    if restart == \"Y\" or restart == \"y\":\n",
    "        url = \"https://python666.cn/cls/number/guess/\"\n",
    "        req = requests.get(url)\n",
    "        req.encoding = \"gbk\"\n",
    "        result = eval(req.text)\n",
    "        Round += 1\n",
    "        print('\\n' + \"Round%d\" % Round)\n",
    "        count = 0\n",
    "        return False\n",
    "    else:\n",
    "        average = sum(num) / len(num)\n",
    "        print('\\n' + \"THIS TIME: you played %d rounds, you guessed the answer in at least %d times, \"\\\n",
    "              \"you need to guess %.2f times per round\"\n",
    "              % (Round, min(num), average))\n",
    "        \n",
    "        if played_least_times == 0:\n",
    "                minimum = min(num)\n",
    "        else:\n",
    "            minimum = min(min(num), played_least_times)\n",
    "        print('\\n' + \"TOTAL: you have played %d rounds, you guessed the answer in at least %d times, \"\\\n",
    "              \"you need to guess %.2f times per round\"\n",
    "              % (Round + played_rounds, minimum,\n",
    "                         (sum(num) + played_total_guess_times) / (Round + played_rounds)))\n",
    "        update()\n",
    "        return True"
   ]
  },
  {
   "cell_type": "markdown",
   "metadata": {},
   "source": [
    "# Update the record\n",
    "Subsititute the old record with the new record."
   ]
  },
  {
   "cell_type": "code",
   "execution_count": 22,
   "metadata": {
    "ExecuteTime": {
     "end_time": "2020-02-04T06:42:48.225336Z",
     "start_time": "2020-02-04T06:42:48.220418Z"
    },
    "code_folding": []
   },
   "outputs": [],
   "source": [
    "def update():\n",
    "    try:\n",
    "        with open(\"record.txt\", 'r+') as f:\n",
    "            f.seek(0)\n",
    "            data = ''            \n",
    "            for line in f.readlines():\n",
    "                if line.find(\"%s\" % name) == 0:\n",
    "                    line = \"%s\\t%d\\t%d\\t%.2f\" % (name, Round + played_rounds, minimum,\n",
    "                     (sum(num) + played_total_guess_times) / (Round + played_rounds))\n",
    "                    print(line)\n",
    "                data += line\n",
    "        with open(\"record.txt\", \"r+\") as f:\n",
    "            f.writelines(data)\n",
    "    except:\n",
    "        print(\"open failed!\")"
   ]
  },
  {
   "cell_type": "markdown",
   "metadata": {},
   "source": [
    "# Play"
   ]
  },
  {
   "cell_type": "code",
   "execution_count": 7,
   "metadata": {
    "ExecuteTime": {
     "end_time": "2020-02-04T06:05:13.317065Z",
     "start_time": "2020-02-04T06:05:13.313649Z"
    },
    "code_folding": []
   },
   "outputs": [],
   "source": [
    "def play():\n",
    "    global result\n",
    "    url = \"https://python666.cn/cls/number/guess/\"\n",
    "    req = requests.get(url)\n",
    "    req.encoding = \"gbk\"\n",
    "    result = eval(req.text)\n",
    "    global count\n",
    "    initialize()\n",
    "    while not compare(result, count):\n",
    "        count += 1"
   ]
  },
  {
   "cell_type": "code",
   "execution_count": 24,
   "metadata": {
    "ExecuteTime": {
     "end_time": "2020-02-04T06:44:06.229391Z",
     "start_time": "2020-02-04T06:43:25.970684Z"
    },
    "code_folding": [
     0
    ],
    "scrolled": true
   },
   "outputs": [
    {
     "name": "stdout",
     "output_type": "stream",
     "text": [
      "Please tell me your name: WWWW\n",
      "WWWW you have played 0 round, you guessed the answer in at least 0 time, you guess the answer on average 0 time each round.\n",
      "Let's start! \n",
      "\n",
      "You need to guess the number I think.\n",
      "hint: It's an integer from 1 to 100\n",
      "\n",
      "Round1\n",
      "Please enter your answer: 50\n",
      "Too small!\n",
      "Please enter your answer: 75\n",
      "Too small!\n",
      "Please enter your answer: 88\n",
      "Too small!\n",
      "Please enter your answer: 92\n",
      "Too small!\n",
      "Please enter your answer: 95\n",
      "Too small!\n",
      "Please enter your answer: 98\n",
      "Too big!\n",
      "Please enter your answer: 97\n",
      "Too big!\n",
      "Please enter your answer: 96\n",
      "Bingo!!!\n",
      "You guessed 8 times\n",
      "\n",
      "Do you want to replay? (Press 'Y' or 'y' to continue, press any other key to quit): n\n",
      "\n",
      "THIS TIME: you played 1 rounds, you guessed the answer in at least 8 times, you need to guess 8.00 times per round\n",
      "\n",
      "TOTAL: you have played 1 rounds, you guessed the answer in at least 8 times, you need to guess 8.00 times per round\n"
     ]
    }
   ],
   "source": [
    "count = 1\n",
    "Round = 1\n",
    "num = []\n",
    "play()"
   ]
  }
 ],
 "metadata": {
  "kernelspec": {
   "display_name": "Python 3",
   "language": "python",
   "name": "python3"
  },
  "language_info": {
   "codemirror_mode": {
    "name": "ipython",
    "version": 3
   },
   "file_extension": ".py",
   "mimetype": "text/x-python",
   "name": "python",
   "nbconvert_exporter": "python",
   "pygments_lexer": "ipython3",
   "version": "3.7.3"
  },
  "toc": {
   "base_numbering": 1,
   "nav_menu": {},
   "number_sections": true,
   "sideBar": true,
   "skip_h1_title": false,
   "title_cell": "Table of Contents",
   "title_sidebar": "Contents",
   "toc_cell": false,
   "toc_position": {},
   "toc_section_display": true,
   "toc_window_display": false
  }
 },
 "nbformat": 4,
 "nbformat_minor": 2
}
