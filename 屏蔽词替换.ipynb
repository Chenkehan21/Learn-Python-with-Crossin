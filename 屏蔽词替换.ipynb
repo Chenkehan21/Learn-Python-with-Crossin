{
 "cells": [
  {
   "cell_type": "markdown",
   "metadata": {},
   "source": [
    "# 给定一个屏蔽词列表的文件，文件中每一行都是一个词汇，可能是英文也可能是中文。\n",
    "\n",
    "文件内容示例：\n",
    "\n",
    "abc\n",
    "测试\n",
    "啊啊啊\n",
    "tttt\n",
    "\n",
    "要求：实现一个方法，输入一段文字，将其中存在于列表中的词汇字符替换成 *，返回处理后的文字。\n",
    "\n",
    "验证这个方法时，从控制台输入待检测文字，调用方法处理，输出处理后的文字。\n",
    "\n",
    "如：\n",
    "\n",
    "abcdefg -> ***defg\n",
    "\n",
    "啊啊，这是一个测试啊啊啊啊 -> 啊啊，这是一个*****啊"
   ]
  },
  {
   "cell_type": "code",
   "execution_count": 3,
   "metadata": {
    "ExecuteTime": {
     "end_time": "2020-01-29T06:33:59.784057Z",
     "start_time": "2020-01-29T06:33:59.773596Z"
    }
   },
   "outputs": [],
   "source": [
    "with open(\"Block_worlds.txt\", 'w') as f:\n",
    "    f.writelines(['abc\\n', '测试\\n', '啊啊啊\\n', 'ttt\\n'])"
   ]
  },
  {
   "cell_type": "code",
   "execution_count": 15,
   "metadata": {
    "ExecuteTime": {
     "end_time": "2020-01-29T07:07:49.266417Z",
     "start_time": "2020-01-29T07:07:46.881787Z"
    }
   },
   "outputs": [
    {
     "name": "stdout",
     "output_type": "stream",
     "text": [
      "['abc', '测试', '啊啊啊', 'ttt']\n",
      "Please write a sentence: 啊啊，这是一个测试啊啊啊啊\n",
      "啊啊，这是一个*****啊\n"
     ]
    }
   ],
   "source": [
    "with open(\"Block_worlds.txt\", 'r') as f:\n",
    "    f.seek(0)\n",
    "    info = f.read().splitlines()\n",
    "print(info)\n",
    "message = input(\"Please write a sentence: \")\n",
    "for i in info:\n",
    "    if i in message:\n",
    "        message = message.replace('%s'%i, '*' * len(i))\n",
    "print(message)"
   ]
  }
 ],
 "metadata": {
  "kernelspec": {
   "display_name": "Python 3",
   "language": "python",
   "name": "python3"
  },
  "language_info": {
   "codemirror_mode": {
    "name": "ipython",
    "version": 3
   },
   "file_extension": ".py",
   "mimetype": "text/x-python",
   "name": "python",
   "nbconvert_exporter": "python",
   "pygments_lexer": "ipython3",
   "version": "3.7.3"
  },
  "toc": {
   "base_numbering": 1,
   "nav_menu": {},
   "number_sections": true,
   "sideBar": true,
   "skip_h1_title": false,
   "title_cell": "Table of Contents",
   "title_sidebar": "Contents",
   "toc_cell": false,
   "toc_position": {},
   "toc_section_display": true,
   "toc_window_display": false
  }
 },
 "nbformat": 4,
 "nbformat_minor": 2
}
