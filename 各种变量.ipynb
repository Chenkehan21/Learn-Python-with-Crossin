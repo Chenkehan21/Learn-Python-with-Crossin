{
 "cells": [
  {
   "cell_type": "markdown",
   "metadata": {},
   "source": [
    "# 想一下以下变量分别是什么。输出结果，看看是否符合你的判断。\n",
    "## a = 'hello,world'\n",
    "## b = 1.414\n",
    "## c = (1 != 2)\n",
    "## d = (True and False)\n",
    "##  e = (True or False)"
   ]
  },
  {
   "cell_type": "code",
   "execution_count": 1,
   "metadata": {
    "ExecuteTime": {
     "end_time": "2020-01-27T11:37:56.829504Z",
     "start_time": "2020-01-27T11:37:56.814151Z"
    }
   },
   "outputs": [
    {
     "name": "stdout",
     "output_type": "stream",
     "text": [
      "hello,world\n",
      "1.414\n",
      "True\n",
      "False\n",
      "False\n"
     ]
    }
   ],
   "source": [
    "a = 'hello,world'\n",
    "b = 1.414\n",
    "c = (1 != 2)\n",
    "d = (True and False)\n",
    "e = (True or False)\n",
    "print(a)\n",
    "print(b)\n",
    "print(c)\n",
    "print(d)\n",
    "print(d)"
   ]
  },
  {
   "cell_type": "markdown",
   "metadata": {},
   "source": [
    "# 通过字符串格式化在同一行输出 a，b，c，d，e，其中浮点数要求只保留两位小数。输出示例：\n",
    "a:hello,word; b:1.41; c:True; d:False; e:True"
   ]
  },
  {
   "cell_type": "code",
   "execution_count": 6,
   "metadata": {
    "ExecuteTime": {
     "end_time": "2020-01-27T11:45:56.604104Z",
     "start_time": "2020-01-27T11:45:56.600137Z"
    }
   },
   "outputs": [
    {
     "name": "stdout",
     "output_type": "stream",
     "text": [
      "a:hello,world; b:1.41; c:True; d:False; e:True\n",
      "a:hello,world; b:1.41; c:True; d:False; e:True\n"
     ]
    }
   ],
   "source": [
    "a = 'hello,world'\n",
    "b = 1.414\n",
    "c = (1 != 2)\n",
    "d = (True and False)\n",
    "e = (True or False)\n",
    "print(\"a:%s; b:%.2f; c:%s; d:%s; e:%s\" % (a, b, c, d, e))\n",
    "print(\"a:{}; b:{:.2f}; c:{}; d:{}; e:{}\".format(a, b, c, d, e))"
   ]
  },
  {
   "attachments": {
    "image.png": {
     "image/png": "[encoded data removed]"
    }
   },
   "cell_type": "markdown",
   "metadata": {},
   "source": [
    "# 定义一个字符串，使其输出结果如下图所示\n",
    "![image.png](attachment:image.png)"
   ]
  },
  {
   "cell_type": "code",
   "execution_count": 7,
   "metadata": {
    "ExecuteTime": {
     "end_time": "2020-01-27T11:50:39.451143Z",
     "start_time": "2020-01-27T11:50:39.448519Z"
    }
   },
   "outputs": [
    {
     "name": "stdout",
     "output_type": "stream",
     "text": [
      "'hello,world'\n",
      "\\\"hello,world\"\n"
     ]
    }
   ],
   "source": [
    "s = \"\\'hello,world\\'\" + '\\n' + '\\\\' + \"\\\"hello,world\\\"\"\n",
    "print(s)"
   ]
  }
 ],
 "metadata": {
  "kernelspec": {
   "display_name": "Python 3",
   "language": "python",
   "name": "python3"
  },
  "language_info": {
   "codemirror_mode": {
    "name": "ipython",
    "version": 3
   },
   "file_extension": ".py",
   "mimetype": "text/x-python",
   "name": "python",
   "nbconvert_exporter": "python",
   "pygments_lexer": "ipython3",
   "version": "3.7.3"
  },
  "toc": {
   "base_numbering": 1,
   "nav_menu": {},
   "number_sections": true,
   "sideBar": true,
   "skip_h1_title": false,
   "title_cell": "Table of Contents",
   "title_sidebar": "Contents",
   "toc_cell": false,
   "toc_position": {},
   "toc_section_display": true,
   "toc_window_display": false
  }
 },
 "nbformat": 4,
 "nbformat_minor": 2
}
