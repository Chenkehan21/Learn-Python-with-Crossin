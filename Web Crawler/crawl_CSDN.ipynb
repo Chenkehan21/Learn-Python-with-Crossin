{
 "cells": [
  {
   "cell_type": "code",
   "execution_count": 32,
   "metadata": {
    "ExecuteTime": {
     "end_time": "2020-02-15T04:14:24.696190Z",
     "start_time": "2020-02-15T04:14:24.691158Z"
    }
   },
   "outputs": [],
   "source": [
    "import requests\n",
    "import threading\n",
    "from threading import Thread\n",
    "import csv"
   ]
  },
  {
   "cell_type": "code",
   "execution_count": 144,
   "metadata": {
    "ExecuteTime": {
     "end_time": "2020-02-15T06:35:37.697561Z",
     "start_time": "2020-02-15T06:35:27.522437Z"
    },
    "code_folding": []
   },
   "outputs": [
    {
     "name": "stdout",
     "output_type": "stream",
     "text": [
      "get new offeset!\n",
      "get new offeset!\n",
      "new_url:  https://www.csdn.net/api/articles?type=more&category=python&shown_offset=1581748528 \n",
      "\n",
      "get new offeset!\n",
      "get new offeset!\n",
      "new_url:  https://www.csdn.net/api/articles?type=more&category=python&shown_offset=1581748524 \n",
      "\n",
      "get new offeset!\n",
      "get new offeset!\n",
      "new_url:  https://www.csdn.net/api/articles?type=more&category=python&shown_offset=1581748525 \n",
      "\n",
      "get new offeset!\n",
      "get new offeset!\n",
      "new_url:  https://www.csdn.net/api/articles?type=more&category=python&shown_offset=1581748531 \n",
      "\n",
      "get new offeset!\n",
      "get new offeset!\n",
      "new_url:  https://www.csdn.net/api/articles?type=more&category=python&shown_offset=1581748532 \n",
      "\n",
      "get new offeset!\n",
      "get new offeset!\n",
      "new_url:  https://www.csdn.net/api/articles?type=more&category=python&shown_offset=1581748534 \n",
      "\n",
      "get new offeset!\n",
      "get new offeset!\n",
      "new_url:  https://www.csdn.net/api/articles?type=more&category=python&shown_offset=1581748536 \n",
      "\n",
      "get new offeset!\n",
      "get new offeset!\n",
      "new_url:  https://www.csdn.net/api/articles?type=more&category=python&shown_offset=1581748537 \n",
      "\n",
      "status false!!\n",
      "error\n",
      "[['gitee新建项目上传到gitee仓库', 1690, '青青子衿0'], ['windows恢复下误删MySQL的数据', 6228, 'SGdan_qi'], ['mysql 8.0.17 解压版安装教程', 12315, 'Johnny . Zuo'], ['面试 SQL整理 常见的SQL面试题：经典50题', 9191, 'sh_c'], ['ORA-01017: invalid username/password; logon denied  无法使用密码登录oracle  centos linux redhat', 2571, 'Alan1921'], ['linux odoo docker常用运维命令表', 7841, '晚风拂柳颜'], ['pod报错&quot;Back-off restarting failed container&quot;解决办法', 13833, 'Mr_ZhangSan'], ['ERROR 1055 (42000): Expression #1 of SELECT list is not in GROUP BY clause and contains nonaggregate', 5148, 'lxw1844912514'], ['SQL server怎么查找某个时间段（多个时间段）的第一个值 或 最后一个值（这里举例查找每小时的第一个值）（Convert详细方法）', 1523, '南     墙'], ['(数据库原理)数据库的范式理论总结', 2184, '钢琴线与小刀'], ['PowerDesigner16.5安装教程', 292268, 'TianXin1432516744'], ['Java春招面试题之编程基础类（一）', 1025, '好书精选'], ['腾讯视频会议使用测试', 1854, '卓晴'], ['C语言数字图像处理---1.7HSV颜色空间与颜色变换', 372, 'Trent1985'], ['css配色大全和色彩原理', 441, '种树y'], ['疫情期间：强烈推荐程序员必备阿里面试的300+面试题含答案解析', 816, 'wx：An_sheng975程序员进阶资'], ['leetcode415. 字符串相加', 431, '一只大白兔兔兔兔兔'], ['程序员面试金典 - 面试题 01.01. 判定字符是否唯一（位运算，牛）', 303, 'Michael阿明'], ['ConcurrentHashMap学习笔记', 236, 'NzwSpring'], ['变换系数熵编码', 246, 'Dillon2015'], ['情人节到了，送自己一个女朋友', 425, '单片机菜鸟哥'], ['简易软件IIC模块--可移植(附STM32f4及TM4c123例程)', 348, 'tou_zi'], ['多路复用的情人节', 490, '卓晴'], ['基于51单片机的wifi智能led灯的毕业设计', 1509, 'TC肖杰'], ['应届生必看的2020互联网求职指南！', 644, 'Ic10000'], ['STM32F103RC+ESP8266使用机智云的一些问题', 254, 'zhaogy2001'], ['关于跨块写flash出现为擦除问题的解决', 240, 'IT_xiao白'], ['正点原子ESP8266模块+机智云学习笔记', 1421, 'npuqiyi'], ['STM32G031无线温湿度仪开源项目 -6，读取温湿度传感器（AHT10）及无线发送数据', 1323, 'yihua2009'], ['物联网行业大揭秘&mdash;&mdash;你想知道的都在这里', 369, '旗点'], ['【模版】最近公共祖先LCA(链剖)', 357, 'OiAcmer991215'], ['My First Block in CSDN', 219, 'Justin the ITer'], ['沙迦美国大学科研副校长赵伟：揭秘工业 4.0 核心技术 CPS 的前世今生 | 人物志...', 875, 'CSDN资讯'], ['(五)Fabric2.0 智能合约实践- 安装以及定义智能合约', 163, 'Mark_MMXIX'], ['基于区块链的供应链金融资料搜集', 375, '覃小楠'], ['Golang 自定义日志', 133, '爱猫狗的小郝'], ['罢了，路，还得走', 126, 'bboyHan'], ['2020年，最适合AI的5种编程语言', 134, 'AI科技大本营'], ['《期权、期货及其他衍生产品》读书笔记（第七章：互换）', 101, 'Quant_Learner'], ['Go语言初探 搭建Mac环境', 72, 'RyanBraynt'], ['用Python打造你的专属情人节贺卡，赶快发给TA浪漫一下吧', 2988, '天元浪子'], ['用Python开发实用程序 &ndash; 计算器', 2723, 'Sui_da_xia'], ['python-内置函数：', 536, '我们的心隔着一片海'], ['情人节来了，教你个用 Python 表白的技巧', 4213, '王一白-'], ['Python新型冠状病毒疫情数据自动爬取+统计+发送报告+数据屏幕（三）发送篇', 2179, 'Fantasy!'], ['Python绘图，圣诞树，花，爱心  |  Turtle篇', 4340, 'Python家庭'], ['python沙箱逃逸', 621, 'Fasthand_'], ['1.输出目录下所有文件及文件夹-职场Python-[自动化管理电脑文件及文件夹]', 945, '气场五十米'], ['利用python进行新型肺炎历史数据下载，时间从1月24日开始至今，分省将数据下载到本地，保存为csv', 3892, '新月清光'], ['python基础教程：Random和Math模块学习笔记', 1003, 'python进步学习者'], ['解决Android Studio gradle_jcenter()下载慢，使用maven阿里源', 960, 'Cupster'], ['简析Android线程', 293, '鲁大大1999'], ['安卓AccessibilityService实现蚂蚁森林自动收集能量 最新 多线程 + 手势 + 深搜webView', 393, 'MISS假老练'], ['Ctrl.js 钉钉自动打卡', 562, 'wuchuxun'], ['Android之TBS浏览Word、Excel、PPT、PDF等文件', 432, '时代新人'], ['iOS - 如何判断一个点是不是在方框（CGRect）、圆（Circle）、三角形（Triangle）内呢？', 367, '玉树临风你卓哥'], ['【Tensorflow】object_detection：win10 android studio tensorflow lite android demo添加tracking支持', 241, 'heiheiya'], ['关于deepin安装后小问题的处理', 1218, 'KissInterf'], ['Qualcomm MSM8916 将开关机动画放置到指定分区做法', 234, 'mingliangshao'], ['c++学习笔记之简单文本输入和输出', 214, '嘻嘻哈哈嗝']] 60\n"
     ]
    }
   ],
   "source": [
    "url_part = \"https://www.csdn.net/api/articles?type=more&category=python&shown_offset=\"\n",
    "initial_url = url_part + \"1581736127471768\"\n",
    "url = url_part + initial_offest\n",
    "result = []\n",
    "title = []\n",
    "\n",
    "\n",
    "def update_url(url):\n",
    "    req = requests.get(url)\n",
    "    html = req.json()\n",
    "    if html['status'] == 'true':\n",
    "        articles = html['articles']\n",
    "        retries = 0\n",
    "        while retries < 5:\n",
    "            try:\n",
    "                shown_offset = str(articles[0]['shown_offset'])\n",
    "            except:\n",
    "                print('failed')\n",
    "                retries += 1\n",
    "            else:\n",
    "                print(\"get new offeset!\")\n",
    "                break\n",
    "        return url_part + shown_offset\n",
    "    else:\n",
    "        print('status false!!')\n",
    "        return 0\n",
    "\n",
    "\n",
    "def crawl_CSDN(url):\n",
    "    global result, title\n",
    "    req = requests.get(url)\n",
    "    html = req.json()\n",
    "    articles = html['articles']\n",
    "    for info in articles:\n",
    "        if info['title'] not in title:\n",
    "            result.append([info['title'], info['views'], info['nickname']])\n",
    "            title.append(info['title'])\n",
    "    \n",
    "\n",
    "def main(initial_url, num):\n",
    "    if num < 1:\n",
    "        return 'finish'\n",
    "    else:\n",
    "        t = Thread(target=crawl_CSDN, args=(initial_url,))\n",
    "        t.start()\n",
    "        if update_url(initial_url):\n",
    "            new_url = update_url(initial_url)\n",
    "            print(\"new_url: \", new_url, '\\n')\n",
    "        else:\n",
    "            print(\"error\")\n",
    "            return 'error!!!'\n",
    "        return main(new_url, num - 1)\n",
    "    \n",
    "    \n",
    "main(initial_url, 15)\n",
    "print(result, len(result))\n",
    "with open (\"CSDN atricles.csv\", 'w', encoding='gbk', errors='ignore') as file:\n",
    "    writer = csv.writer(file)\n",
    "    writer.writerow(['名称', '阅读量', '用户名'])\n",
    "    for data in result:\n",
    "        writer.writerow(data)\n"
   ]
  }
 ],
 "metadata": {
  "kernelspec": {
   "display_name": "Python 3",
   "language": "python",
   "name": "python3"
  },
  "language_info": {
   "codemirror_mode": {
    "name": "ipython",
    "version": 3
   },
   "file_extension": ".py",
   "mimetype": "text/x-python",
   "name": "python",
   "nbconvert_exporter": "python",
   "pygments_lexer": "ipython3",
   "version": "3.7.3"
  },
  "toc": {
   "base_numbering": 1,
   "nav_menu": {},
   "number_sections": true,
   "sideBar": true,
   "skip_h1_title": false,
   "title_cell": "Table of Contents",
   "title_sidebar": "Contents",
   "toc_cell": false,
   "toc_position": {},
   "toc_section_display": true,
   "toc_window_display": false
  }
 },
 "nbformat": 4,
 "nbformat_minor": 2
}
