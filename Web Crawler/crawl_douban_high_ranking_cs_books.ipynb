{
 "cells": [
  {
   "cell_type": "code",
   "execution_count": 1,
   "metadata": {
    "ExecuteTime": {
     "end_time": "2020-02-15T08:35:52.119897Z",
     "start_time": "2020-02-15T08:35:51.970505Z"
    }
   },
   "outputs": [],
   "source": [
    "import requests\n",
    "from lxml import etree\n",
    "import csv"
   ]
  },
  {
   "cell_type": "code",
   "execution_count": null,
   "metadata": {
    "ExecuteTime": {
     "start_time": "2020-02-15T08:35:51.970Z"
    }
   },
   "outputs": [
    {
     "name": "stdout",
     "output_type": "stream",
     "text": [
      "crawl page 1\n",
      "crawl page 2\n",
      "crawl page 3\n",
      "crawl page 4\n",
      "crawl page 5\n",
      "crawl page 6\n"
     ]
    }
   ],
   "source": [
    "url_part = \"https://book.douban.com/tag/%E7%BC%96%E7%A8%8B?\"\n",
    "parameter = \"start=0&type=T\"\n",
    "url = url_part + parameter\n",
    "headers = {\n",
    "    'authority': 'googleads.g.doubleclick.net',\n",
    "    'cookie': 'id=22fc5dc815c100e9||t=1579596623|et=730|cs=002213fd489edf8a7bd3e425f1',\n",
    "    'referer': 'https://googleads.g.doubleclick.net/pagead/ads?client=ca-pub-4830389020085397&output=html&h=250&slotname=1983604743&adk=2912570974&adf=1831147650&w=300&fwrn=11&fwrnh=100&lmt=1581750252&rafmt=1&armr=1&psa=1&guci=2.2.0.0.2.2.0.0&format=300x250&url=https%3A%2F%2Fbook.douban.com%2Ftag%2F%25E7%25BC%2596%25E7%25A8%258B%3Fstart%3D0%26type%3DT&flash=0&fwr=0&rs=1&rh=250&rw=300&rpe=1&resp_fmts=3&sfro=1&wgl=1&dt=1581750252241&bpp=15&bdt=206&fdt=55&idt=55&shv=r20200212&cbv=r20190131&ptt=9&saldr=aa&abxe=1&cookie=ID%3D3deb3fa6d89dce0b%3AT%3D1581749769%3AS%3DALNI_MZGt69lg54N_CMpvc8DTDnE73JXNw&crv=1&correlator=819190752890&frm=20&pv=2&ga_vid=954891704.1581749769&ga_sid=1581749769&ga_hid=1849720037&ga_fc=1&iag=0&icsg=8389128&dssz=24&mdo=0&mso=0&u_tz=480&u_his=12&u_java=0&u_h=864&u_w=1536&u_ah=824&u_aw=1536&u_cd=24&u_nplug=3&u_nmime=4&adx=712&ady=247&biw=267&bih=706&scr_x=0&scr_y=0&eid=44713205%2C410075106&oid=3&pvsid=2987883415108868&pem=514&ref=https%3A%2F%2Fbook.douban.com%2Ftag%2F%25E7%25BC%2596%25E7%25A8%258B%3Fstart%3D60%26type%3DT&rx=0&eae=0&fc=256&brdim=0%2C0%2C0%2C0%2C1536%2C0%2C1536%2C824%2C284%2C722&vis=1&rsz=%7C%7CoeE%7C&abl=CS&pfx=0&fu=1176&bc=31&ifi=1&uci=a!1&fsb=1&xpc=91uCwIx4S2&p=https%3A//book.douban.com&dtd=65',\n",
    "    'user-agent': 'Mozilla/5.0 (Windows NT 10.0; Win64; x64) AppleWebKit/537.36 (KHTML, like Gecko) Chrome/80.0.3987.106 Safari/537.36',\n",
    "}\n",
    "book_info = []\n",
    "for num in range(80):\n",
    "    req = requests.get(url, headers = headers)\n",
    "    html = req.text\n",
    "    tree = etree.HTML(html)\n",
    "    print(\"crawl page %d\" % (num+1))\n",
    "    subject_list = tree.xpath('//ul[@class=\"subject-list\"]/text()')\n",
    "    if not subject_list[0] == '\\n  ':\n",
    "        books = tree.xpath('//div[@class=\"info\"]/h2[@class=\"\"]/a/@title')\n",
    "        link = tree.xpath('//div[@class=\"info\"]/h2[@class=\"\"]/a/@href')\n",
    "        rankings = tree.xpath('//div[@class=\"star clearfix\"]/span[@class=\"rating_nums\"]/text()')\n",
    "        result = list(zip(books, rankings,link))\n",
    "        for data in result:\n",
    "            if float(data[1]) >= 9.0:\n",
    "                book_info.append([data[0], data[1], data[2]])\n",
    "        next_page = tree.xpath('//span[@class=\"next\"]/a/@href')\n",
    "        url = url_part + next_page[0].split('?')[-1]\n",
    "    else:\n",
    "        break\n",
    "print(\"Done!\")\n",
    "with open(\"douban_highranking_CS_books.csv\", 'w', encoding='gbk', errors='ignore', newline='') as file:\n",
    "    writer = csv.writer(file)\n",
    "    writer.writerow(['书名', '评分', '链接'])\n",
    "    for book in book_info:\n",
    "        writer.writerow(book)"
   ]
  }
 ],
 "metadata": {
  "kernelspec": {
   "display_name": "Python 3",
   "language": "python",
   "name": "python3"
  },
  "language_info": {
   "codemirror_mode": {
    "name": "ipython",
    "version": 3
   },
   "file_extension": ".py",
   "mimetype": "text/x-python",
   "name": "python",
   "nbconvert_exporter": "python",
   "pygments_lexer": "ipython3",
   "version": "3.7.3"
  },
  "toc": {
   "base_numbering": 1,
   "nav_menu": {},
   "number_sections": true,
   "sideBar": true,
   "skip_h1_title": false,
   "title_cell": "Table of Contents",
   "title_sidebar": "Contents",
   "toc_cell": false,
   "toc_position": {},
   "toc_section_display": true,
   "toc_window_display": false
  }
 },
 "nbformat": 4,
 "nbformat_minor": 2
}
