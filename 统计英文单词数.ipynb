{
 "cells": [
  {
   "cell_type": "code",
   "execution_count": 10,
   "metadata": {
    "ExecuteTime": {
     "end_time": "2020-01-31T06:25:52.318863Z",
     "start_time": "2020-01-31T06:25:52.311857Z"
    }
   },
   "outputs": [
    {
     "name": "stdout",
     "output_type": "stream",
     "text": [
      "['A', 'plethora', 'of', 'real', 'world', 'problems', 'such', 'as', 'the', 'control', 'of', 'autonomous', 'vehicles', 'and', 'drones', 'packet', 'delivery', 'and', 'many', 'others', 'consists', 'of', 'a', 'number', 'of', 'agents', 'that', 'need', 'to', 'take', 'actions', 'based', 'on', 'local', 'observations', 'and', 'can', 'thus', 'be', 'formulated', 'in', 'the', 'multi', 'agent', 'reinforcement', 'learning', 'MARL', 'setting', 'Furthermore', 'as', 'more', 'machine', 'learning', 'systems', 'are', 'deployed', 'in', 'the', 'real', 'world', 'they', 'will', 'start', 'having', 'impact', 'on', 'each', 'other', 'effectively', 'turning', 'most', 'decision', 'making', 'problems', 'into', 'multiagent', 'problems', 'In', 'this', 'thesis', 'we', 'develop', 'and', 'evaluate', 'novel', 'deep', 'multi', 'agent', 'RL', 'DMARL', 'methods', 'that', 'address', 'the', 'unique', 'challenges', 'which', 'arise', 'in', 'these', 'settings', 'These', 'challenges', 'include', 'learning', 'to', 'collaborate', 'to', 'communicate', 'and', 'to', 'reciprocate', 'amongst', 'agents', 'In', 'most', 'of', 'these', 'real', 'world', 'use', 'cases', 'during', 'decentralised', 'execution', 'the', 'final', 'policies', 'can', 'only', 'rely', 'on', 'local', 'observations', 'However', 'in', 'many', 'cases', 'it', 'is', 'possible', 'to', 'carry', 'out', 'centralised', 'training', 'for', 'example', 'when', 'training', 'policies', 'on', 'a', 'simulator', 'or', 'when', 'using', 'extra', 'state', 'information', 'and', 'free', 'communication', 'between', 'agents', 'during', 'the', 'training', 'process']\n"
     ]
    },
    {
     "data": {
      "text/plain": [
       "169"
      ]
     },
     "execution_count": 10,
     "metadata": {},
     "output_type": "execute_result"
    }
   ],
   "source": [
    "import re\n",
    "\n",
    "def words(address = \"MARL.txt\"):\n",
    "    with open(address, 'r') as f:\n",
    "        info = f.readlines()\n",
    "    m = re.findall(r\"[A-z]+\", info[0])\n",
    "    print(m)\n",
    "    return len(m)\n",
    "words()"
   ]
  }
 ],
 "metadata": {
  "kernelspec": {
   "display_name": "Python 3",
   "language": "python",
   "name": "python3"
  },
  "language_info": {
   "codemirror_mode": {
    "name": "ipython",
    "version": 3
   },
   "file_extension": ".py",
   "mimetype": "text/x-python",
   "name": "python",
   "nbconvert_exporter": "python",
   "pygments_lexer": "ipython3",
   "version": "3.7.3"
  },
  "toc": {
   "base_numbering": 1,
   "nav_menu": {},
   "number_sections": true,
   "sideBar": true,
   "skip_h1_title": false,
   "title_cell": "Table of Contents",
   "title_sidebar": "Contents",
   "toc_cell": false,
   "toc_position": {},
   "toc_section_display": true,
   "toc_window_display": false
  }
 },
 "nbformat": 4,
 "nbformat_minor": 2
}
