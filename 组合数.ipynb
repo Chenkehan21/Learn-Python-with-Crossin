{
 "cells": [
  {
   "cell_type": "markdown",
   "metadata": {},
   "source": [
    "# 【问题描述】\n",
    "1,2,3,4 四个数字，能组成多少个互不相同且无重复数字的三位数？分别是多少？\n",
    "要求：输出 1,2,3,4 组合出的所有无重复数字的三位数。"
   ]
  },
  {
   "cell_type": "code",
   "execution_count": 3,
   "metadata": {
    "ExecuteTime": {
     "end_time": "2020-01-28T02:03:13.506044Z",
     "start_time": "2020-01-28T02:03:13.501084Z"
    }
   },
   "outputs": [
    {
     "name": "stdout",
     "output_type": "stream",
     "text": [
      "123\n",
      "124\n",
      "132\n",
      "134\n",
      "142\n",
      "143\n",
      "213\n",
      "214\n",
      "231\n",
      "234\n",
      "241\n",
      "243\n",
      "312\n",
      "314\n",
      "321\n",
      "324\n",
      "341\n",
      "342\n",
      "412\n",
      "413\n",
      "421\n",
      "423\n",
      "431\n",
      "432\n",
      "There are 24 numbers.\n"
     ]
    }
   ],
   "source": [
    "count = 0\n",
    "for i in range(1, 5):\n",
    "    for j in range(1, 5):\n",
    "        for k in range(1, 5):\n",
    "            if i == j or i ==k or j == k:\n",
    "                continue\n",
    "            count += 1\n",
    "            print(\"%d%d%d\" % (i, j, k))\n",
    "print(\"There are %d numbers.\" % count)"
   ]
  }
 ],
 "metadata": {
  "kernelspec": {
   "display_name": "Python 3",
   "language": "python",
   "name": "python3"
  },
  "language_info": {
   "codemirror_mode": {
    "name": "ipython",
    "version": 3
   },
   "file_extension": ".py",
   "mimetype": "text/x-python",
   "name": "python",
   "nbconvert_exporter": "python",
   "pygments_lexer": "ipython3",
   "version": "3.7.3"
  },
  "toc": {
   "base_numbering": 1,
   "nav_menu": {},
   "number_sections": true,
   "sideBar": true,
   "skip_h1_title": false,
   "title_cell": "Table of Contents",
   "title_sidebar": "Contents",
   "toc_cell": false,
   "toc_position": {},
   "toc_section_display": true,
   "toc_window_display": false
  }
 },
 "nbformat": 4,
 "nbformat_minor": 2
}
