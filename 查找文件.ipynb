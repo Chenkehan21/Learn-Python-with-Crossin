{
 "cells": [
  {
   "cell_type": "markdown",
   "metadata": {},
   "source": [
    "# 【问题描述】\n",
    "用 Python 做运维或写自动化脚本时，难免要和文件打交道。\n",
    "\n",
    "要求：输入关键字，列出指定文件夹中的所有文件名中含有此关键字的文件/目录，以及文件内容中含有此关键字的文件。"
   ]
  },
  {
   "cell_type": "code",
   "execution_count": 37,
   "metadata": {
    "ExecuteTime": {
     "end_time": "2020-01-29T09:14:09.224477Z",
     "start_time": "2020-01-29T09:13:59.348505Z"
    }
   },
   "outputs": [
    {
     "name": "stdout",
     "output_type": "stream",
     "text": [
      "Please enter keyword: 美赛\n",
      "2016美赛优秀论文\n",
      "2016美赛优秀论文.rar\n",
      "2017美赛O奖论文（全）\n",
      "2017美赛O奖论文（全）.rar\n",
      "2018美赛A题思路.pdf\n",
      "2018美赛B题思路.pdf\n",
      "2018美赛C题思路.pdf\n",
      "2018美赛D题思路.pdf\n",
      "2018美赛E题思路.pdf\n",
      "2018美赛F题思路.pdf\n",
      "2018美赛O奖论文.zip\n",
      "2018美赛初步思路.pdf\n",
      "2018美赛各赛题人工翻译.zip\n",
      "2018美赛试题.docx\n",
      "2019美赛B题要求.docx\n",
      "2019美赛D题解题参考思路.pdf\n",
      "2019美赛网上系统使用说明.docx\n",
      "2019美赛讲座.pptx\n",
      "2019美赛论文提交相关说明.docx\n",
      "【必看】美赛非常有用的一些好东西\n",
      "另外一套美赛数学建模的视频以及课件（暂时未上传到b站）\n",
      "另外一套美赛数学建模的视频以及课件（暂时未上传到b站） (1)\n",
      "另外一套美赛数学建模的视频以及课件（暂时未上传到b站） (2)\n",
      "如何备战美赛.ppt\n",
      "美赛论文-converted.pdf\n",
      "美赛论文.docx\n"
     ]
    }
   ],
   "source": [
    "import os\n",
    "\n",
    "def find(folder_address = \"E:\"):\n",
    "    keyword = input(\"Please enter keyword: \")\n",
    "    files = [file.strip() for file in os.listdir(folder_address)]\n",
    "    for name in files:\n",
    "        if keyword in name:\n",
    "            print(name)\n",
    "        path = os.path.join(folder_address, name)\n",
    "#         print(path)\n",
    "        if os.path.isfile(path):\n",
    "            with open(path, errors='ignore') as f:\n",
    "                if keyword in f.read():\n",
    "                    print(name)\n",
    "find(\"E:/陈可涵大学文件/数模\")"
   ]
  }
 ],
 "metadata": {
  "kernelspec": {
   "display_name": "Python 3",
   "language": "python",
   "name": "python3"
  },
  "language_info": {
   "codemirror_mode": {
    "name": "ipython",
    "version": 3
   },
   "file_extension": ".py",
   "mimetype": "text/x-python",
   "name": "python",
   "nbconvert_exporter": "python",
   "pygments_lexer": "ipython3",
   "version": "3.7.3"
  },
  "toc": {
   "base_numbering": 1,
   "nav_menu": {},
   "number_sections": true,
   "sideBar": true,
   "skip_h1_title": false,
   "title_cell": "Table of Contents",
   "title_sidebar": "Contents",
   "toc_cell": false,
   "toc_position": {},
   "toc_section_display": true,
   "toc_window_display": false
  }
 },
 "nbformat": 4,
 "nbformat_minor": 2
}
