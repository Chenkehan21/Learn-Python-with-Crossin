{
 "cells": [
  {
   "cell_type": "code",
   "execution_count": 16,
   "metadata": {
    "ExecuteTime": {
     "end_time": "2020-01-28T12:04:07.230558Z",
     "start_time": "2020-01-28T12:04:07.223135Z"
    }
   },
   "outputs": [
    {
     "name": "stdout",
     "output_type": "stream",
     "text": [
      "['s8', 's11', 's12', 'd5', 'h2', 'h7', 'h8', 'd12', 'h6', 'c6', 'c13', 'd11', 'c10', 'd13', 'joker1', 'd6', 's9']\n",
      "['s2', 'd9', 's13', 'h5', 'c8', 'h1', 'h10', 'd3', 'c4', 's4', 'h13', 'c3', 'd8', 'h12', 'd7', 'c9', 'd1']\n",
      "['s1', 'c7', 'd10', 'c2', 'c12', 'h11', 'c1', 'h3', 'joker2', 'h9', 'h4', 'c11', 's10', 'c5', 'd2', 's5', 'd4']\n"
     ]
    }
   ],
   "source": [
    "import random\n",
    "spades = [\"s%d\"%i for i in list(range(1,14))]\n",
    "hearts = [\"h%d\"%i for i in list(range(1,14))]\n",
    "diamonds = [\"d%d\"%i for i in list(range(1,14))]\n",
    "clubs = [\"c%d\"%i for i in list(range(1,14))]\n",
    "jokers = [\"joker1\", \"joker2\"]\n",
    "cards = spades + hearts + diamonds + clubs + jokers\n",
    "random.shuffle(cards)\n",
    "final_cards = random.sample(cards, 3)\n",
    "left_cards = [i for i in cards if i not in final_cards]\n",
    "A = [a for a in left_cards[ : 17]]\n",
    "B = [b for b in left_cards[17 : 17+17]]\n",
    "C = [c for c in left_cards[17+17 : ]]\n",
    "print(A, B, C, sep='\\n')"
   ]
  },
  {
   "cell_type": "code",
   "execution_count": 11,
   "metadata": {
    "ExecuteTime": {
     "end_time": "2020-01-28T11:59:44.074965Z",
     "start_time": "2020-01-28T11:59:44.065998Z"
    }
   },
   "outputs": [
    {
     "name": "stdout",
     "output_type": "stream",
     "text": [
      "Final cards ['s4', 'd1', 's10', 'h11', 'h7', 'h6']\n",
      "['c8', 'c9', 'c2', 'd3', 'h9', 's5', 'h2', 'd6', 's2', 'd10', 'd8', 'c5', 'h1', 'h3', 'c4', 'd13']\n",
      "['s11', 'c11', 's7', 's1', 's3', 's6', 'c6', 's9', 'd4', 'h8', 'd9', 'd7', 'c1', 'd11', 'c10', 'c3']\n",
      "['h10', 'h4', 's8', 'joker2', 's13', 's12', 'h5', 'c7', 'd2', 'h13', 'c13', 'joker1', 'c12', 'd5', 'd12', 'h12']\n"
     ]
    }
   ],
   "source": [
    "def licensing(num_of_decks = 1, num_of_people = 3, num_of_finalcards = 3):\n",
    "    spades = [\"s%d\"%i for i in list(range(1,14))] * num_of_decks\n",
    "    hearts = [\"h%d\"%i for i in list(range(1,14))] * num_of_decks\n",
    "    diamonds = [\"d%d\"%i for i in list(range(1,14))] * num_of_decks\n",
    "    clubs = [\"c%d\"%i for i in list(range(1,14))] * num_of_decks\n",
    "    jokers = [\"joker1\", \"joker2\"] * num_of_decks\n",
    "    cards = spades + hearts + diamonds + clubs + jokers\n",
    "    num_of_cards = len(cards)\n",
    "    if (num_of_cards - num_of_finalcards) % num_of_people != 0:\n",
    "        print(\"CAN'T LICENSE! Please reset the number of people or the number of final cards!\")\n",
    "    else:\n",
    "        each_person = int((num_of_cards - num_of_finalcards)/ num_of_people)\n",
    "        random.shuffle(cards)\n",
    "        final_cards = random.sample(cards, num_of_finalcards)\n",
    "        print(\"Final cards\", final_cards)\n",
    "\n",
    "        left_cards = [i for i in cards if i not in final_cards]\n",
    "        for n in range(num_of_people):\n",
    "            temp = [k for k in left_cards[each_person*n : each_person*(n+1)]]\n",
    "            print(temp)\n",
    "licensing(1,3,6)"
   ]
  }
 ],
 "metadata": {
  "kernelspec": {
   "display_name": "Python 3",
   "language": "python",
   "name": "python3"
  },
  "language_info": {
   "codemirror_mode": {
    "name": "ipython",
    "version": 3
   },
   "file_extension": ".py",
   "mimetype": "text/x-python",
   "name": "python",
   "nbconvert_exporter": "python",
   "pygments_lexer": "ipython3",
   "version": "3.7.3"
  },
  "toc": {
   "base_numbering": 1,
   "nav_menu": {},
   "number_sections": true,
   "sideBar": true,
   "skip_h1_title": false,
   "title_cell": "Table of Contents",
   "title_sidebar": "Contents",
   "toc_cell": false,
   "toc_position": {},
   "toc_section_display": true,
   "toc_window_display": false
  }
 },
 "nbformat": 4,
 "nbformat_minor": 2
}
