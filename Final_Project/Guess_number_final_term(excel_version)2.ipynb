{
 "cells": [
  {
   "cell_type": "markdown",
   "metadata": {},
   "source": [
    "# Import"
   ]
  },
  {
   "cell_type": "code",
   "execution_count": 10,
   "metadata": {
    "ExecuteTime": {
     "end_time": "2020-02-06T09:01:55.356715Z",
     "start_time": "2020-02-06T09:01:55.353245Z"
    }
   },
   "outputs": [],
   "source": [
    "import requests\n",
    "import pandas as pd\n",
    "import os"
   ]
  },
  {
   "cell_type": "markdown",
   "metadata": {},
   "source": [
    "# Initialize"
   ]
  },
  {
   "cell_type": "code",
   "execution_count": 12,
   "metadata": {
    "ExecuteTime": {
     "end_time": "2020-02-06T09:02:01.053455Z",
     "start_time": "2020-02-06T09:02:01.045518Z"
    }
   },
   "outputs": [],
   "source": [
    "def initialize():\n",
    "    global name, name_id, data, player, played_rounds, played_Least_times, played_ave, played_total_times, result\n",
    "    if not os.path.exists(\"RECORD.xlsx\"):\n",
    "        df = pd.DataFrame(columns=['Name', 'Rounds', 'Least_times', 'Average_times', 'Total_times'])\n",
    "        df.to_excel(\"RECORD.xlsx\")\n",
    "    info = pd.read_excel(\"RECORD.xlsx\")\n",
    "    name = input(\"Please input your name: \")\n",
    "    if name in list(info['Name']): # convert to a list to check !!!\n",
    "        name_id = info[info['Name'] == name].index[0] # get the row index of the player's name.\n",
    "        data = info.loc[name_id] # the data's shape looks like a form, not a list.\n",
    "        player = data[\"Name\"] # so we need to use this way to acquire specific info.\n",
    "        played_rounds = data[\"Rounds\"]\n",
    "        played_Least_times = data[\"Least_times\"]\n",
    "        played_ave = data[\"Average_times\"]\n",
    "        played_total_times = data[\"Total_times\"]\n",
    "        print(\"Hi %s, you have played %d rounds, you guessed the answer in at least %d times, \"\\\n",
    "                  \"you guessed the answer on average %.2f times each round.\"\n",
    "                  % (player, played_rounds, played_Least_times, played_ave))\n",
    "#         print(info)\n",
    "#         print(name_id)\n",
    "    else:\n",
    "        info.loc[''] = [name, 0, 0, 0.0, 0] # creat a new player at the rear of the sheet.\n",
    "        info.to_excel(\"RECORD.xlsx\", index=False) # remember to save it !!!\n",
    "        info = pd.read_excel(\"RECORD.xlsx\") # open it again, so that we get the new player's index.\n",
    "#         print(info)\n",
    "        name_id = info[info['Name'] == name].index[0]\n",
    "#         print(\"name_id: \", name_id)\n",
    "        played_rounds = 0 # remember to initialize these variables after we creat a new player\n",
    "        played_Least_times = 0\n",
    "        played_ave = 0.0 # pay attention: average should be a float !\n",
    "        played_total_times = 0\n",
    "        print(\"%s you have played 0 round, you guessed the answer in at least 0 time, \"\\\n",
    "        \"you guess the answer on average 0 time each round.\" % name)\n",
    "        info.to_excel(\"RECORD.xlsx\", index=False)\n",
    "    print(\"\\nRound1\")\n",
    "    result = get_result()\n",
    "    count = 1\n",
    "    Round = 1\n",
    "    num = []\n",
    "#     print(result)"
   ]
  },
  {
   "cell_type": "markdown",
   "metadata": {},
   "source": [
    "# Guess and check"
   ]
  },
  {
   "cell_type": "code",
   "execution_count": 3,
   "metadata": {
    "ExecuteTime": {
     "end_time": "2020-02-06T07:54:21.508936Z",
     "start_time": "2020-02-06T07:54:21.503011Z"
    }
   },
   "outputs": [],
   "source": [
    "def guess_and_check():\n",
    "    global guess_number, Bingo\n",
    "    num_type = False\n",
    "    while num_type == False: # ensure that players enter the right type.\n",
    "        try:\n",
    "            guess_number = int(input(\"Please enter your answer: \"))\n",
    "        except:    \n",
    "            print(\"You must enter an integer!!!\")\n",
    "        else:\n",
    "            if type(guess_number) == int:\n",
    "                Bingo = False\n",
    "                break                "
   ]
  },
  {
   "cell_type": "markdown",
   "metadata": {},
   "source": [
    "# Compare"
   ]
  },
  {
   "cell_type": "code",
   "execution_count": 4,
   "metadata": {
    "ExecuteTime": {
     "end_time": "2020-02-06T07:54:22.831025Z",
     "start_time": "2020-02-06T07:54:22.826558Z"
    }
   },
   "outputs": [],
   "source": [
    "def compare(result, count):\n",
    "    guess_and_check()\n",
    "    if guess_number < result:\n",
    "        print(\"Too small!\")\n",
    "        return False\n",
    "    elif guess_number > result:\n",
    "        print(\"Too big!\")\n",
    "        return False\n",
    "    else:\n",
    "        print(\"Bingo!!!\")\n",
    "        print(\"You guessed %d times\" % count + '\\n') \n",
    "        num.append(count) # won't count until player enter the right type and guess the answer.\n",
    "        return replay()  # there must be \"return replay()\"!!! if omit \"return\", it doesn't work!!!    "
   ]
  },
  {
   "cell_type": "markdown",
   "metadata": {},
   "source": [
    "# Replay\n",
    "If the player want to replay, we update the answer. Otherwise, we estimate their performance and end the game."
   ]
  },
  {
   "cell_type": "code",
   "execution_count": 5,
   "metadata": {
    "ExecuteTime": {
     "end_time": "2020-02-06T07:54:24.529802Z",
     "start_time": "2020-02-06T07:54:24.523384Z"
    }
   },
   "outputs": [],
   "source": [
    "def replay():\n",
    "    global Round, count, result, new_least_times, new_rounds, new_total, new_ave\n",
    "    if played_Least_times == 0:  # Pay attention: the new_least_times equals min(num) when played_least_times = 0!!!\n",
    "        new_least_times = min(num)\n",
    "    else:\n",
    "        new_least_times = min(min(num), played_Least_times)\n",
    "    \n",
    "    restart = input(\"Do you want to replay? (Press 'Y' or 'y' to continue, press any other keys to quit): \")\n",
    "    if restart == \"Y\" or restart == \"y\":\n",
    "        result = get_result() # Update the result !!!\n",
    "#         print(result)\n",
    "        Round += 1\n",
    "        print('\\n' + \"Round%d\" % Round)\n",
    "        count = 0\n",
    "        return False\n",
    "    else:\n",
    "        average = sum(num) / len(num)\n",
    "        new_rounds = Round + played_rounds\n",
    "        new_total = played_total_times + sum(num)\n",
    "        new_ave = new_total / new_rounds    # Update the variables !!!\n",
    "        print('\\n' + \"THIS TIME: you played %d rounds, you guessed the answer in at least %d times, \"\\\n",
    "              \"you need to guess %.2f times per round\"\n",
    "              % (Round, min(num), average))           \n",
    "        print('\\n' + \"TOTAL: you have played %d rounds, you guessed the answer in at least %d times, \"\\\n",
    "              \"you need to guess %.2f times per round\" % (new_rounds, new_least_times, new_ave))\n",
    "        update()\n",
    "        return True  "
   ]
  },
  {
   "cell_type": "markdown",
   "metadata": {},
   "source": [
    "# Update"
   ]
  },
  {
   "cell_type": "code",
   "execution_count": 6,
   "metadata": {
    "ExecuteTime": {
     "end_time": "2020-02-06T07:54:25.897760Z",
     "start_time": "2020-02-06T07:54:25.893295Z"
    }
   },
   "outputs": [],
   "source": [
    "def update():\n",
    "    info2 = pd.read_excel(\"RECORD.xlsx\")\n",
    "    info2.loc[name_id] = [name, new_rounds, new_least_times, new_ave, new_total]  # update !!!\n",
    "    info2.to_excel(\"RECORD.xlsx\", index=False) # must save !!!                  "
   ]
  },
  {
   "cell_type": "markdown",
   "metadata": {},
   "source": [
    "# Get result"
   ]
  },
  {
   "cell_type": "code",
   "execution_count": 7,
   "metadata": {
    "ExecuteTime": {
     "end_time": "2020-02-06T07:54:27.012414Z",
     "start_time": "2020-02-06T07:54:27.007952Z"
    }
   },
   "outputs": [],
   "source": [
    "def get_result():\n",
    "    url = \"https://python666.cn/cls/number/guess/\"\n",
    "    req = requests.get(url)\n",
    "    req.encoding = \"gbk\"\n",
    "    result = eval(req.text)\n",
    "    return result           "
   ]
  },
  {
   "cell_type": "markdown",
   "metadata": {},
   "source": [
    "# Play"
   ]
  },
  {
   "cell_type": "code",
   "execution_count": 8,
   "metadata": {
    "ExecuteTime": {
     "end_time": "2020-02-06T07:54:28.286781Z",
     "start_time": "2020-02-06T07:54:28.282841Z"
    }
   },
   "outputs": [],
   "source": [
    "def play():\n",
    "    global result, count\n",
    "    initialize()\n",
    "    while not compare(result, count):\n",
    "        count += 1"
   ]
  },
  {
   "cell_type": "code",
   "execution_count": 9,
   "metadata": {
    "ExecuteTime": {
     "end_time": "2020-02-06T07:56:17.165474Z",
     "start_time": "2020-02-06T07:54:30.889980Z"
    }
   },
   "outputs": [
    {
     "name": "stdout",
     "output_type": "stream",
     "text": [
      "Please input your name: nqpo\n",
      "Hi nqpo, you have played 6 rounds, you guessed the answer in at least 1 times, you guessed the answer on average 5.67 times each round.\n",
      "\n",
      "Round1\n",
      "Please enter your answer: 50\n",
      "Too small!\n",
      "Please enter your answer: 75\n",
      "Too big!\n",
      "Please enter your answer: 62\n",
      "Too big!\n",
      "Please enter your answer: 56\n",
      "Too small!\n",
      "Please enter your answer: 59\n",
      "Too big!\n",
      "Please enter your answer: 58\n",
      "Bingo!!!\n",
      "You guessed 6 times\n",
      "\n",
      "Do you want to replay? (Press 'Y' or 'y' to continue, press any other keys to quit): y\n",
      "\n",
      "Round2\n",
      "Please enter your answer: 50\n",
      "Too small!\n",
      "Please enter your answer: 50f\n",
      "You must enter an integer!!!\n",
      "Please enter your answer: ,.\n",
      "You must enter an integer!!!\n",
      "Please enter your answer:  \n",
      "You must enter an integer!!!\n",
      "Please enter your answer: [\n",
      "You must enter an integer!!!\n",
      "Please enter your answer: 75\n",
      "Too big!\n",
      "Please enter your answer: 58\n",
      "Too small!\n",
      "Please enter your answer: 63\n",
      "Too small!\n",
      "Please enter your answer: 60\n",
      "Too small!\n",
      "Please enter your answer: 70\n",
      "Too small!\n",
      "Please enter your answer: 73\n",
      "Too small!\n",
      "Please enter your answer: 74\n",
      "Bingo!!!\n",
      "You guessed 8 times\n",
      "\n",
      "Do you want to replay? (Press 'Y' or 'y' to continue, press any other keys to quit): n\n",
      "\n",
      "THIS TIME: you played 2 rounds, you guessed the answer in at least 6 times, you need to guess 7.00 times per round\n",
      "\n",
      "TOTAL: you have played 8 rounds, you guessed the answer in at least 1 times, you need to guess 6.00 times per round\n"
     ]
    }
   ],
   "source": [
    "\n",
    "play()"
   ]
  }
 ],
 "metadata": {
  "kernelspec": {
   "display_name": "Python 3",
   "language": "python",
   "name": "python3"
  },
  "language_info": {
   "codemirror_mode": {
    "name": "ipython",
    "version": 3
   },
   "file_extension": ".py",
   "mimetype": "text/x-python",
   "name": "python",
   "nbconvert_exporter": "python",
   "pygments_lexer": "ipython3",
   "version": "3.7.3"
  },
  "toc": {
   "base_numbering": 1,
   "nav_menu": {},
   "number_sections": true,
   "sideBar": true,
   "skip_h1_title": false,
   "title_cell": "Table of Contents",
   "title_sidebar": "Contents",
   "toc_cell": false,
   "toc_position": {},
   "toc_section_display": true,
   "toc_window_display": false
  }
 },
 "nbformat": 4,
 "nbformat_minor": 2
}
