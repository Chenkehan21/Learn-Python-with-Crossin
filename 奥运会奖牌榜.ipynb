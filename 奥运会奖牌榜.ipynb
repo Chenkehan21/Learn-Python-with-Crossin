{
 "cells": [
  {
   "cell_type": "code",
   "execution_count": 71,
   "metadata": {
    "ExecuteTime": {
     "end_time": "2020-02-01T05:10:34.071917Z",
     "start_time": "2020-02-01T05:10:34.064015Z"
    }
   },
   "outputs": [],
   "source": [
    "import operator\n",
    "\n",
    "class Medals:\n",
    "    def __init__(self, country, gold_medal, silver_medal, bronze_medal):\n",
    "        self.country = country\n",
    "        self.gold_medal = gold_medal\n",
    "        self.silver_medal = silver_medal\n",
    "        self.bronze_medal = bronze_medal\n",
    "        self.total_medals = self.gold_medal + self.silver_medal + self.bronze_medal\n",
    "        \n",
    "    def Add(self, rank, num):\n",
    "        if rank == 1:\n",
    "            print(\"Congraturations! %s took %d 1st place!\" % (self.country, num), '\\n')\n",
    "            self.gold_medal += 1 * num\n",
    "        elif rank == 2 :\n",
    "            print(\"Congraturations! %s took %d 2nd place!\" % (self.country, num), '\\n')\n",
    "            self.silver_medal += 1 * num\n",
    "        elif rank == 3:\n",
    "            print(\"Congraturations! %s took %d 3rd place!\" % (self.country, num), '\\n')\n",
    "            self.bronze_medal += 1 * num\n",
    "        else:\n",
    "            print(\"Pitty!\")\n",
    "    \n",
    "def ranking_and_print(country):\n",
    "    print(\"Rank1(by gold medals):\")\n",
    "    print(\"rank\\t\\tcountry\\t\\tgold\\t\\tsilver\\t\\tbronze\\t\\ttotal\")\n",
    "    rank1 = sorted(country, key=operator.attrgetter('gold_medal'), reverse=True)\n",
    "    k = 1\n",
    "    for i in rank1:\n",
    "        print(k, i.country, i.gold_medal, i.silver_medal, i.bronze_medal, i.total_medals, sep='\\t'*2)\n",
    "        k += 1\n",
    "    print()\n",
    "    print(\"Rank2(by total medals):\")\n",
    "    rank2 = sorted(country, key=operator.attrgetter('total_medals'), reverse=True)\n",
    "    print(\"rank\\t\\tcountry\\t\\tgold\\t\\tsilver\\t\\tbronze\\t\\ttotal\")\n",
    "    j = 1\n",
    "    for i in rank2:\n",
    "        print(j, i.country, i.gold_medal, i.silver_medal, i.bronze_medal, i.total_medals, sep='\\t'*2)\n",
    "        j += 1"
   ]
  },
  {
   "cell_type": "code",
   "execution_count": 72,
   "metadata": {
    "ExecuteTime": {
     "end_time": "2020-02-01T05:10:36.738179Z",
     "start_time": "2020-02-01T05:10:36.732223Z"
    }
   },
   "outputs": [
    {
     "name": "stdout",
     "output_type": "stream",
     "text": [
      "Congraturations! USA took 20 1st place! \n",
      "\n",
      "Rank1(by gold medals):\n",
      "rank\t\tcountry\t\tgold\t\tsilver\t\tbronze\t\ttotal\n",
      "1\t\tUSA\t\t30\t\t5\t\t13\t\t28\n",
      "2\t\tchina\t\t20\t\t10\t\t15\t\t45\n",
      "\n",
      "Rank2(by total medals):\n",
      "rank\t\tcountry\t\tgold\t\tsilver\t\tbronze\t\ttotal\n",
      "1\t\tchina\t\t20\t\t10\t\t15\t\t45\n",
      "2\t\tUSA\t\t30\t\t5\t\t13\t\t28\n"
     ]
    }
   ],
   "source": [
    "china = Medals(\"china\", 20,10,15)\n",
    "USA = Medals(\"USA\", 10, 5, 13)\n",
    "USA.Add(rank = 1, num = 20)\n",
    "ranking_and_print([china, USA])"
   ]
  }
 ],
 "metadata": {
  "kernelspec": {
   "display_name": "Python 3",
   "language": "python",
   "name": "python3"
  },
  "language_info": {
   "codemirror_mode": {
    "name": "ipython",
    "version": 3
   },
   "file_extension": ".py",
   "mimetype": "text/x-python",
   "name": "python",
   "nbconvert_exporter": "python",
   "pygments_lexer": "ipython3",
   "version": "3.7.3"
  },
  "toc": {
   "base_numbering": 1,
   "nav_menu": {},
   "number_sections": true,
   "sideBar": true,
   "skip_h1_title": false,
   "title_cell": "Table of Contents",
   "title_sidebar": "Contents",
   "toc_cell": false,
   "toc_position": {},
   "toc_section_display": true,
   "toc_window_display": false
  }
 },
 "nbformat": 4,
 "nbformat_minor": 2
}
