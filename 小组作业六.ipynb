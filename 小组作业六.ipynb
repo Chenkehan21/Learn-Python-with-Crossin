{
 "cells": [
  {
   "cell_type": "markdown",
   "metadata": {},
   "source": [
    "# 猜数字小游戏\n",
    "在第四课里，我们用 if 改进猜数字小游戏后，功能已经基本实现了。但是有没有办法能让玩家一直猜，直到猜中为止？试着用 while 循环完成这个任务"
   ]
  },
  {
   "cell_type": "code",
   "execution_count": 24,
   "metadata": {
    "ExecuteTime": {
     "end_time": "2020-02-04T11:22:56.681300Z",
     "start_time": "2020-02-04T11:22:41.613789Z"
    }
   },
   "outputs": [
    {
     "name": "stdout",
     "output_type": "stream",
     "text": [
      "Please enter a number: 25\n",
      "too big\n",
      "Please enter a number: 12\n",
      "too big\n",
      "Please enter a number: 6\n",
      "too small\n",
      "Please enter a number: 9\n",
      "too big\n",
      "Please enter a number: 7\n",
      "too small\n",
      "Please enter a number: 8\n",
      "bingo!\n"
     ]
    }
   ],
   "source": [
    "import random\n",
    "\n",
    "answer = random.randint(1, 50)\n",
    "guess = eval(input(\"Please enter a number: \"))\n",
    "\n",
    "def compare(guess, answer):\n",
    "    if guess < answer:\n",
    "        print(\"too small\")\n",
    "        return False\n",
    "    if guess > answer:\n",
    "        print(\"too big\")\n",
    "        return False\n",
    "    else:\n",
    "        print(\"bingo!\")\n",
    "        return True\n",
    "while not compare(guess, answer):\n",
    "    guess = eval(input(\"Please enter a number: \"))"
   ]
  },
  {
   "cell_type": "markdown",
   "metadata": {},
   "source": [
    "# 输出 1 到 10，但不输出 4 和 5"
   ]
  },
  {
   "cell_type": "code",
   "execution_count": 28,
   "metadata": {
    "ExecuteTime": {
     "end_time": "2020-02-04T11:26:06.801658Z",
     "start_time": "2020-02-04T11:26:06.796729Z"
    }
   },
   "outputs": [
    {
     "name": "stdout",
     "output_type": "stream",
     "text": [
      "1\n",
      "2\n",
      "3\n",
      "6\n",
      "7\n",
      "8\n",
      "9\n",
      "10\n"
     ]
    }
   ],
   "source": [
    "count = 0\n",
    "while count < 10:\n",
    "    count += 1\n",
    "    if count == 4 or count == 5:\n",
    "        continue\n",
    "    print(count)"
   ]
  },
  {
   "cell_type": "markdown",
   "metadata": {},
   "source": [
    "# 使用 while 计算100以内所有3的倍数的和（即：计算3、6、9 ... 96、99 的和）"
   ]
  },
  {
   "cell_type": "code",
   "execution_count": 34,
   "metadata": {
    "ExecuteTime": {
     "end_time": "2020-02-04T11:33:17.108505Z",
     "start_time": "2020-02-04T11:33:17.104525Z"
    }
   },
   "outputs": [
    {
     "name": "stdout",
     "output_type": "stream",
     "text": [
      "1683\n"
     ]
    }
   ],
   "source": [
    "n = 1\n",
    "SUM = 0\n",
    "while 3*n < 100:\n",
    "    SUM += 3*n\n",
    "    n += 1\n",
    "print(SUM)"
   ]
  }
 ],
 "metadata": {
  "kernelspec": {
   "display_name": "Python 3",
   "language": "python",
   "name": "python3"
  },
  "language_info": {
   "codemirror_mode": {
    "name": "ipython",
    "version": 3
   },
   "file_extension": ".py",
   "mimetype": "text/x-python",
   "name": "python",
   "nbconvert_exporter": "python",
   "pygments_lexer": "ipython3",
   "version": "3.7.3"
  },
  "toc": {
   "base_numbering": 1,
   "nav_menu": {},
   "number_sections": true,
   "sideBar": true,
   "skip_h1_title": false,
   "title_cell": "Table of Contents",
   "title_sidebar": "Contents",
   "toc_cell": false,
   "toc_position": {},
   "toc_section_display": true,
   "toc_window_display": false
  }
 },
 "nbformat": 4,
 "nbformat_minor": 2
}
