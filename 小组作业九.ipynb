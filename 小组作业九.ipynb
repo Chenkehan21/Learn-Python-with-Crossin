{
 "cells": [
  {
   "cell_type": "markdown",
   "metadata": {},
   "source": [
    "# 计算圆面积"
   ]
  },
  {
   "cell_type": "code",
   "execution_count": 1,
   "metadata": {
    "ExecuteTime": {
     "end_time": "2020-02-04T12:17:00.112675Z",
     "start_time": "2020-02-04T12:17:00.104776Z"
    }
   },
   "outputs": [
    {
     "data": {
      "text/plain": [
       "28.274333882308138"
      ]
     },
     "execution_count": 1,
     "metadata": {},
     "output_type": "execute_result"
    }
   ],
   "source": [
    "import math\n",
    "\n",
    "def S(r):\n",
    "    return math.pi * (r ** 2)\n",
    "\n",
    "S(3)"
   ]
  },
  {
   "cell_type": "markdown",
   "metadata": {},
   "source": [
    "# 生成10个随机数，输出里面最大的数"
   ]
  },
  {
   "cell_type": "code",
   "execution_count": 7,
   "metadata": {
    "ExecuteTime": {
     "end_time": "2020-02-04T12:20:50.932379Z",
     "start_time": "2020-02-04T12:20:50.928902Z"
    }
   },
   "outputs": [
    {
     "name": "stdout",
     "output_type": "stream",
     "text": [
      "[85 30  7 81 52 50 63 49 10  2]\n",
      "85\n"
     ]
    }
   ],
   "source": [
    "import numpy as np\n",
    "\n",
    "a = np.random.randint(100, size = 10)\n",
    "print(a)\n",
    "print(max(a))"
   ]
  },
  {
   "cell_type": "markdown",
   "metadata": {},
   "source": [
    "# 将第六课（while循环）练习1的猜数字小游戏中的数字用一个1-100之间的随机数来改写，并在猜中后输出猜了几轮猜中答案"
   ]
  },
  {
   "cell_type": "code",
   "execution_count": 10,
   "metadata": {
    "ExecuteTime": {
     "end_time": "2020-02-04T12:26:30.865459Z",
     "start_time": "2020-02-04T12:26:23.646758Z"
    }
   },
   "outputs": [
    {
     "name": "stdout",
     "output_type": "stream",
     "text": [
      "17\n",
      "Please enter a number: 34\n",
      "too big\n",
      "Please enter a number: 45\n",
      "too big\n",
      "Please enter a number: 56\n",
      "too big\n",
      "Please enter a number: 7\n",
      "too small\n",
      "Please enter a number: 17\n",
      "bingo!!!\n",
      "You guessed 5 times\n"
     ]
    }
   ],
   "source": [
    "import random\n",
    "\n",
    "answer = random.randint(0, 100)\n",
    "print(answer)\n",
    "guess = eval(input(\"Please enter a number: \"))\n",
    "count = 1\n",
    "def compare(guess, answer):\n",
    "    if guess < answer:\n",
    "        print(\"too small\")\n",
    "        return False\n",
    "    if guess > answer:\n",
    "        print(\"too big\")\n",
    "        return False\n",
    "    else:\n",
    "        print(\"bingo!!!\")\n",
    "        return True\n",
    "while not compare(guess, answer):\n",
    "    guess = eval(input(\"Please enter a number: \"))\n",
    "    count += 1\n",
    "print(\"You guessed %d times\" % count)"
   ]
  }
 ],
 "metadata": {
  "kernelspec": {
   "display_name": "Python 3",
   "language": "python",
   "name": "python3"
  },
  "language_info": {
   "codemirror_mode": {
    "name": "ipython",
    "version": 3
   },
   "file_extension": ".py",
   "mimetype": "text/x-python",
   "name": "python",
   "nbconvert_exporter": "python",
   "pygments_lexer": "ipython3",
   "version": "3.7.3"
  },
  "toc": {
   "base_numbering": 1,
   "nav_menu": {},
   "number_sections": true,
   "sideBar": true,
   "skip_h1_title": false,
   "title_cell": "Table of Contents",
   "title_sidebar": "Contents",
   "toc_cell": false,
   "toc_position": {},
   "toc_section_display": true,
   "toc_window_display": false
  }
 },
 "nbformat": 4,
 "nbformat_minor": 2
}
