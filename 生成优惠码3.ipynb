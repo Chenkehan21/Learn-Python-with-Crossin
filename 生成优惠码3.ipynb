{
 "cells": [
  {
   "cell_type": "code",
   "execution_count": 2,
   "metadata": {
    "ExecuteTime": {
     "end_time": "2020-01-28T10:31:33.993776Z",
     "start_time": "2020-01-28T10:31:33.982864Z"
    }
   },
   "outputs": [
    {
     "name": "stdout",
     "output_type": "stream",
     "text": [
      "ZpDBcmKE\n",
      "QZCxoFyr\n",
      "DyGOelYw\n",
      "uKJCLmpi\n",
      "hQjltNHO\n",
      "SXetVfNy\n",
      "xcohuwrR\n",
      "RZSMTmJk\n",
      "pqtxAOXe\n",
      "WFMNJHYn\n",
      "UrjfkTNi\n",
      "UYiyDAKZ\n",
      "cZzHCVfU\n",
      "HjoXUImZ\n",
      "rzEZsnch\n",
      "yMmNbZcf\n",
      "uRGpNUbS\n",
      "HoFOIMfR\n",
      "fxOtbHes\n",
      "itxTIhSb\n"
     ]
    }
   ],
   "source": [
    "import string\n",
    "import random\n",
    "\n",
    "letters = list(string.ascii_letters)\n",
    "for i in range(20):\n",
    "    print(''.join(random.sample(letters, 8)))"
   ]
  }
 ],
 "metadata": {
  "kernelspec": {
   "display_name": "Python 3",
   "language": "python",
   "name": "python3"
  },
  "language_info": {
   "codemirror_mode": {
    "name": "ipython",
    "version": 3
   },
   "file_extension": ".py",
   "mimetype": "text/x-python",
   "name": "python",
   "nbconvert_exporter": "python",
   "pygments_lexer": "ipython3",
   "version": "3.7.3"
  },
  "toc": {
   "base_numbering": 1,
   "nav_menu": {},
   "number_sections": true,
   "sideBar": true,
   "skip_h1_title": false,
   "title_cell": "Table of Contents",
   "title_sidebar": "Contents",
   "toc_cell": false,
   "toc_position": {},
   "toc_section_display": true,
   "toc_window_display": false
  }
 },
 "nbformat": 4,
 "nbformat_minor": 2
}
