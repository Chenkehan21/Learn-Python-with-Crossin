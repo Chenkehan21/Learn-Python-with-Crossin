{
 "cells": [
  {
   "cell_type": "markdown",
   "metadata": {},
   "source": [
    "# 【问题描述】\n",
    "很多付费应用的开发者，会设计一些优惠券来吸引用户来使用新开发的应用，以达到一定的广告效应。\n",
    "\n",
    "现在，请你帮他们设计并生成20个优惠券号码：\n",
    "\n",
    "优惠码的字符由26个英文字符（大小写）组成\n",
    "\n",
    "每个优惠码有8位"
   ]
  },
  {
   "cell_type": "code",
   "execution_count": 30,
   "metadata": {
    "ExecuteTime": {
     "end_time": "2020-01-28T09:43:03.102612Z",
     "start_time": "2020-01-28T09:43:03.094677Z"
    }
   },
   "outputs": [
    {
     "name": "stdout",
     "output_type": "stream",
     "text": [
      "eEGVDOkF\n",
      "TuzlCcPp\n",
      "GRJdCNmV\n",
      "SgsmhhYg\n",
      "XLqQOscq\n",
      "YJDydmIx\n",
      "EZeTocMR\n",
      "qsUBBNER\n",
      "qpRTQwVi\n",
      "Vebynwub\n",
      "OuVxZEPc\n",
      "RHYVsYYZ\n",
      "PZzPJJkE\n",
      "SyvitQrU\n",
      "mcWinrfm\n",
      "YUyBqslr\n",
      "ZVjrXieO\n",
      "ZpSFSjkX\n",
      "jyeIFvJJ\n",
      "KyHvWuUG\n"
     ]
    }
   ],
   "source": [
    "import random\n",
    "import numpy as np\n",
    "num = list(range(65, 65+26)) + list(range(122-25, 123))\n",
    "for n in range(20):\n",
    "    random.shuffle(num)\n",
    "    idx = np.random.randint(0, 52, 8 )\n",
    "    result = []\n",
    "    for j in idx:\n",
    "        result.append(chr(num[j]))\n",
    "    print(''.join(result))"
   ]
  }
 ],
 "metadata": {
  "kernelspec": {
   "display_name": "Python 3",
   "language": "python",
   "name": "python3"
  },
  "language_info": {
   "codemirror_mode": {
    "name": "ipython",
    "version": 3
   },
   "file_extension": ".py",
   "mimetype": "text/x-python",
   "name": "python",
   "nbconvert_exporter": "python",
   "pygments_lexer": "ipython3",
   "version": "3.7.3"
  },
  "toc": {
   "base_numbering": 1,
   "nav_menu": {},
   "number_sections": true,
   "sideBar": true,
   "skip_h1_title": false,
   "title_cell": "Table of Contents",
   "title_sidebar": "Contents",
   "toc_cell": false,
   "toc_position": {},
   "toc_section_display": true,
   "toc_window_display": false
  }
 },
 "nbformat": 4,
 "nbformat_minor": 2
}
