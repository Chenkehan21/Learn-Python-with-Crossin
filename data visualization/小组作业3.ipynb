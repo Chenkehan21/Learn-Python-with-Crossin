{
 "cells": [
  {
   "cell_type": "code",
   "execution_count": 1,
   "metadata": {
    "ExecuteTime": {
     "end_time": "2020-02-08T08:18:06.925047Z",
     "start_time": "2020-02-08T08:18:06.387233Z"
    }
   },
   "outputs": [],
   "source": [
    "import pandas as pd\n",
    "import matplotlib.pyplot as plt\n",
    "import numpy as np"
   ]
  },
  {
   "cell_type": "markdown",
   "metadata": {},
   "source": [
    "# 读取 CSV 格式文件“task_3.1_zhihu_timeline_answer.csv”，将数据命名为 zhihu_data_answer，并查看前部数据(阅读参考文章 1、2);"
   ]
  },
  {
   "cell_type": "code",
   "execution_count": 2,
   "metadata": {
    "ExecuteTime": {
     "end_time": "2020-02-08T08:18:06.946355Z",
     "start_time": "2020-02-08T08:18:06.926020Z"
    },
    "scrolled": false
   },
   "outputs": [
    {
     "data": {
      "text/html": [
       "<div>\n",
       "<style scoped>\n",
       "    .dataframe tbody tr th:only-of-type {\n",
       "        vertical-align: middle;\n",
       "    }\n",
       "\n",
       "    .dataframe tbody tr th {\n",
       "        vertical-align: top;\n",
       "    }\n",
       "\n",
       "    .dataframe thead th {\n",
       "        text-align: right;\n",
       "    }\n",
       "</style>\n",
       "<table border=\"1\" class=\"dataframe\">\n",
       "  <thead>\n",
       "    <tr style=\"text-align: right;\">\n",
       "      <th></th>\n",
       "      <th>类型</th>\n",
       "      <th>id</th>\n",
       "      <th>标签</th>\n",
       "      <th>回答id</th>\n",
       "      <th>回答点赞数</th>\n",
       "      <th>回答评论数</th>\n",
       "      <th>回答感谢数</th>\n",
       "      <th>回答观看数</th>\n",
       "      <th>回答创建时间</th>\n",
       "      <th>问题id</th>\n",
       "      <th>问题题目</th>\n",
       "      <th>问题回答数</th>\n",
       "      <th>问题关注数</th>\n",
       "      <th>评论数</th>\n",
       "      <th>创建时间</th>\n",
       "    </tr>\n",
       "  </thead>\n",
       "  <tbody>\n",
       "    <tr>\n",
       "      <td>0</td>\n",
       "      <td>answer</td>\n",
       "      <td>12_1574824946.178</td>\n",
       "      <td>二次元</td>\n",
       "      <td>734170020</td>\n",
       "      <td>4859</td>\n",
       "      <td>656</td>\n",
       "      <td>564</td>\n",
       "      <td>1120728</td>\n",
       "      <td>1561974232</td>\n",
       "      <td>62972819</td>\n",
       "      <td>你们见过最好看的 coser 长什么样？</td>\n",
       "      <td>1607</td>\n",
       "      <td>30094</td>\n",
       "      <td>30</td>\n",
       "      <td>1501051575</td>\n",
       "    </tr>\n",
       "    <tr>\n",
       "      <td>1</td>\n",
       "      <td>answer</td>\n",
       "      <td>13_1574824946.45</td>\n",
       "      <td>生活</td>\n",
       "      <td>629465796</td>\n",
       "      <td>46827</td>\n",
       "      <td>1594</td>\n",
       "      <td>12491</td>\n",
       "      <td>4517999</td>\n",
       "      <td>1553236233</td>\n",
       "      <td>63894266</td>\n",
       "      <td>生活中有哪些残忍的真相？</td>\n",
       "      <td>2505</td>\n",
       "      <td>57217</td>\n",
       "      <td>50</td>\n",
       "      <td>1502701040</td>\n",
       "    </tr>\n",
       "    <tr>\n",
       "      <td>2</td>\n",
       "      <td>answer</td>\n",
       "      <td>14_1574824946.791</td>\n",
       "      <td>高考</td>\n",
       "      <td>344182099</td>\n",
       "      <td>25739</td>\n",
       "      <td>2465</td>\n",
       "      <td>5072</td>\n",
       "      <td>1575771</td>\n",
       "      <td>1521306846</td>\n",
       "      <td>266837866</td>\n",
       "      <td>你们是怎么考上 985 的，每科多少分？</td>\n",
       "      <td>3527</td>\n",
       "      <td>28092</td>\n",
       "      <td>64</td>\n",
       "      <td>1518015871</td>\n",
       "    </tr>\n",
       "    <tr>\n",
       "      <td>3</td>\n",
       "      <td>answer</td>\n",
       "      <td>15_1574824946.795</td>\n",
       "      <td>网恋</td>\n",
       "      <td>792191898</td>\n",
       "      <td>8948</td>\n",
       "      <td>1938</td>\n",
       "      <td>965</td>\n",
       "      <td>1261527</td>\n",
       "      <td>1566029684</td>\n",
       "      <td>270608371</td>\n",
       "      <td>网恋奔现失败是种什么体验？</td>\n",
       "      <td>5751</td>\n",
       "      <td>28491</td>\n",
       "      <td>122</td>\n",
       "      <td>1522496497</td>\n",
       "    </tr>\n",
       "    <tr>\n",
       "      <td>4</td>\n",
       "      <td>answer</td>\n",
       "      <td>17_1574824946.818</td>\n",
       "      <td>健康</td>\n",
       "      <td>868188823</td>\n",
       "      <td>884</td>\n",
       "      <td>246</td>\n",
       "      <td>235</td>\n",
       "      <td>329706</td>\n",
       "      <td>1571893264</td>\n",
       "      <td>27128132</td>\n",
       "      <td>如何有效地戒糖？</td>\n",
       "      <td>500</td>\n",
       "      <td>19048</td>\n",
       "      <td>33</td>\n",
       "      <td>1418828372</td>\n",
       "    </tr>\n",
       "    <tr>\n",
       "      <td>5</td>\n",
       "      <td>answer</td>\n",
       "      <td>12_1574824946.115</td>\n",
       "      <td>手机</td>\n",
       "      <td>848373860</td>\n",
       "      <td>1686</td>\n",
       "      <td>0</td>\n",
       "      <td>142</td>\n",
       "      <td>629377</td>\n",
       "      <td>1570438678</td>\n",
       "      <td>29016679</td>\n",
       "      <td>华为在欧洲真有这么火吗？</td>\n",
       "      <td>636</td>\n",
       "      <td>3814</td>\n",
       "      <td>19</td>\n",
       "      <td>1427206740</td>\n",
       "    </tr>\n",
       "    <tr>\n",
       "      <td>6</td>\n",
       "      <td>answer</td>\n",
       "      <td>13_1574824946.753</td>\n",
       "      <td>生活</td>\n",
       "      <td>911075017</td>\n",
       "      <td>4</td>\n",
       "      <td>2</td>\n",
       "      <td>1</td>\n",
       "      <td>4479</td>\n",
       "      <td>1574757539</td>\n",
       "      <td>294213474</td>\n",
       "      <td>女生有男朋友之后才知道的事情有哪些？</td>\n",
       "      <td>14628</td>\n",
       "      <td>129885</td>\n",
       "      <td>96</td>\n",
       "      <td>1536648965</td>\n",
       "    </tr>\n",
       "    <tr>\n",
       "      <td>7</td>\n",
       "      <td>answer</td>\n",
       "      <td>14_1574824946.849</td>\n",
       "      <td>节食</td>\n",
       "      <td>898975107</td>\n",
       "      <td>95</td>\n",
       "      <td>28</td>\n",
       "      <td>19</td>\n",
       "      <td>70599</td>\n",
       "      <td>1574055414</td>\n",
       "      <td>297855838</td>\n",
       "      <td>怎样控制食欲？</td>\n",
       "      <td>919</td>\n",
       "      <td>15872</td>\n",
       "      <td>16</td>\n",
       "      <td>1539091167</td>\n",
       "    </tr>\n",
       "    <tr>\n",
       "      <td>8</td>\n",
       "      <td>answer</td>\n",
       "      <td>16_1574824946.675</td>\n",
       "      <td>生活</td>\n",
       "      <td>134662126</td>\n",
       "      <td>5968</td>\n",
       "      <td>121</td>\n",
       "      <td>2332</td>\n",
       "      <td>310724</td>\n",
       "      <td>1481036744</td>\n",
       "      <td>24245141</td>\n",
       "      <td>有哪些心理学小技巧可以运用在生活中？</td>\n",
       "      <td>437</td>\n",
       "      <td>117434</td>\n",
       "      <td>27</td>\n",
       "      <td>1403496035</td>\n",
       "    </tr>\n",
       "    <tr>\n",
       "      <td>9</td>\n",
       "      <td>answer</td>\n",
       "      <td>17_1574824946.998</td>\n",
       "      <td>香港</td>\n",
       "      <td>862814887</td>\n",
       "      <td>612</td>\n",
       "      <td>40</td>\n",
       "      <td>46</td>\n",
       "      <td>118292</td>\n",
       "      <td>1571484882</td>\n",
       "      <td>322851671</td>\n",
       "      <td>作为一个香港人来内地是什么体验？</td>\n",
       "      <td>213</td>\n",
       "      <td>3686</td>\n",
       "      <td>35</td>\n",
       "      <td>1556946581</td>\n",
       "    </tr>\n",
       "  </tbody>\n",
       "</table>\n",
       "</div>"
      ],
      "text/plain": [
       "       类型                 id   标签       回答id  回答点赞数  回答评论数  回答感谢数    回答观看数  \\\n",
       "0  answer  12_1574824946.178  二次元  734170020   4859    656    564  1120728   \n",
       "1  answer   13_1574824946.45   生活  629465796  46827   1594  12491  4517999   \n",
       "2  answer  14_1574824946.791   高考  344182099  25739   2465   5072  1575771   \n",
       "3  answer  15_1574824946.795   网恋  792191898   8948   1938    965  1261527   \n",
       "4  answer  17_1574824946.818   健康  868188823    884    246    235   329706   \n",
       "5  answer  12_1574824946.115   手机  848373860   1686      0    142   629377   \n",
       "6  answer  13_1574824946.753   生活  911075017      4      2      1     4479   \n",
       "7  answer  14_1574824946.849   节食  898975107     95     28     19    70599   \n",
       "8  answer  16_1574824946.675   生活  134662126   5968    121   2332   310724   \n",
       "9  answer  17_1574824946.998   香港  862814887    612     40     46   118292   \n",
       "\n",
       "       回答创建时间       问题id                  问题题目  问题回答数   问题关注数  评论数        创建时间  \n",
       "0  1561974232   62972819  你们见过最好看的 coser 长什么样？   1607   30094   30  1501051575  \n",
       "1  1553236233   63894266          生活中有哪些残忍的真相？   2505   57217   50  1502701040  \n",
       "2  1521306846  266837866  你们是怎么考上 985 的，每科多少分？   3527   28092   64  1518015871  \n",
       "3  1566029684  270608371         网恋奔现失败是种什么体验？   5751   28491  122  1522496497  \n",
       "4  1571893264   27128132              如何有效地戒糖？    500   19048   33  1418828372  \n",
       "5  1570438678   29016679          华为在欧洲真有这么火吗？    636    3814   19  1427206740  \n",
       "6  1574757539  294213474    女生有男朋友之后才知道的事情有哪些？  14628  129885   96  1536648965  \n",
       "7  1574055414  297855838               怎样控制食欲？    919   15872   16  1539091167  \n",
       "8  1481036744   24245141    有哪些心理学小技巧可以运用在生活中？    437  117434   27  1403496035  \n",
       "9  1571484882  322851671      作为一个香港人来内地是什么体验？    213    3686   35  1556946581  "
      ]
     },
     "execution_count": 2,
     "metadata": {},
     "output_type": "execute_result"
    }
   ],
   "source": [
    "with open(\"task_3.1_zhihu_timeline_answer.csv\", encoding='utf-8') as f:\n",
    "    zhihu_data_answer = pd.read_csv(f)\n",
    "zhihu_data_answer.head(10)"
   ]
  },
  {
   "cell_type": "markdown",
   "metadata": {},
   "source": [
    "# 提取“task_3.1_zhihu_timeline_answer.csv”中【回答点赞数】和【回答感谢数】列数据，制成散点图， 观察两者的关系(阅读参考文章 3、4);"
   ]
  },
  {
   "cell_type": "code",
   "execution_count": 3,
   "metadata": {
    "ExecuteTime": {
     "end_time": "2020-02-08T08:18:06.953826Z",
     "start_time": "2020-02-08T08:18:06.947845Z"
    }
   },
   "outputs": [
    {
     "data": {
      "text/html": [
       "<div>\n",
       "<style scoped>\n",
       "    .dataframe tbody tr th:only-of-type {\n",
       "        vertical-align: middle;\n",
       "    }\n",
       "\n",
       "    .dataframe tbody tr th {\n",
       "        vertical-align: top;\n",
       "    }\n",
       "\n",
       "    .dataframe thead th {\n",
       "        text-align: right;\n",
       "    }\n",
       "</style>\n",
       "<table border=\"1\" class=\"dataframe\">\n",
       "  <thead>\n",
       "    <tr style=\"text-align: right;\">\n",
       "      <th></th>\n",
       "      <th>回答点赞数</th>\n",
       "    </tr>\n",
       "  </thead>\n",
       "  <tbody>\n",
       "    <tr>\n",
       "      <td>0</td>\n",
       "      <td>4859</td>\n",
       "    </tr>\n",
       "    <tr>\n",
       "      <td>1</td>\n",
       "      <td>46827</td>\n",
       "    </tr>\n",
       "    <tr>\n",
       "      <td>2</td>\n",
       "      <td>25739</td>\n",
       "    </tr>\n",
       "    <tr>\n",
       "      <td>3</td>\n",
       "      <td>8948</td>\n",
       "    </tr>\n",
       "    <tr>\n",
       "      <td>4</td>\n",
       "      <td>884</td>\n",
       "    </tr>\n",
       "  </tbody>\n",
       "</table>\n",
       "</div>"
      ],
      "text/plain": [
       "   回答点赞数\n",
       "0   4859\n",
       "1  46827\n",
       "2  25739\n",
       "3   8948\n",
       "4    884"
      ]
     },
     "execution_count": 3,
     "metadata": {},
     "output_type": "execute_result"
    }
   ],
   "source": [
    "zhihu_data_answer[['回答点赞数']].head()"
   ]
  },
  {
   "cell_type": "code",
   "execution_count": 4,
   "metadata": {
    "ExecuteTime": {
     "end_time": "2020-02-08T08:18:06.961264Z",
     "start_time": "2020-02-08T08:18:06.954789Z"
    }
   },
   "outputs": [
    {
     "data": {
      "text/html": [
       "<div>\n",
       "<style scoped>\n",
       "    .dataframe tbody tr th:only-of-type {\n",
       "        vertical-align: middle;\n",
       "    }\n",
       "\n",
       "    .dataframe tbody tr th {\n",
       "        vertical-align: top;\n",
       "    }\n",
       "\n",
       "    .dataframe thead th {\n",
       "        text-align: right;\n",
       "    }\n",
       "</style>\n",
       "<table border=\"1\" class=\"dataframe\">\n",
       "  <thead>\n",
       "    <tr style=\"text-align: right;\">\n",
       "      <th></th>\n",
       "      <th>回答感谢数</th>\n",
       "    </tr>\n",
       "  </thead>\n",
       "  <tbody>\n",
       "    <tr>\n",
       "      <td>0</td>\n",
       "      <td>564</td>\n",
       "    </tr>\n",
       "    <tr>\n",
       "      <td>1</td>\n",
       "      <td>12491</td>\n",
       "    </tr>\n",
       "    <tr>\n",
       "      <td>2</td>\n",
       "      <td>5072</td>\n",
       "    </tr>\n",
       "    <tr>\n",
       "      <td>3</td>\n",
       "      <td>965</td>\n",
       "    </tr>\n",
       "    <tr>\n",
       "      <td>4</td>\n",
       "      <td>235</td>\n",
       "    </tr>\n",
       "  </tbody>\n",
       "</table>\n",
       "</div>"
      ],
      "text/plain": [
       "   回答感谢数\n",
       "0    564\n",
       "1  12491\n",
       "2   5072\n",
       "3    965\n",
       "4    235"
      ]
     },
     "execution_count": 4,
     "metadata": {},
     "output_type": "execute_result"
    }
   ],
   "source": [
    "zhihu_data_answer[['回答感谢数']].head()"
   ]
  },
  {
   "cell_type": "code",
   "execution_count": 5,
   "metadata": {
    "ExecuteTime": {
     "end_time": "2020-02-08T08:18:06.973175Z",
     "start_time": "2020-02-08T08:18:06.962227Z"
    }
   },
   "outputs": [
    {
     "name": "stdout",
     "output_type": "stream",
     "text": [
      "num_like:  [4859, 46827, 25739, 8948, 884, 1686, 4, 95, 5968, 612]\n",
      "\n",
      "num_thank:  [564, 12491, 5072, 965, 235, 142, 1, 19, 2332, 46]\n"
     ]
    }
   ],
   "source": [
    "num_like = zhihu_data_answer['回答点赞数'].values.tolist()\n",
    "num_thank = zhihu_data_answer['回答感谢数'].values.tolist()\n",
    "print(\"num_like: \", num_like[:10])\n",
    "print('\\nnum_thank: ', num_thank[:10])"
   ]
  },
  {
   "cell_type": "code",
   "execution_count": 6,
   "metadata": {
    "ExecuteTime": {
     "end_time": "2020-02-08T08:18:07.297560Z",
     "start_time": "2020-02-08T08:18:06.974133Z"
    }
   },
   "outputs": [
    {
     "data": {
      "image/png": "[encoded data removed]",
      "text/plain": [
       "<Figure size 1296x720 with 1 Axes>"
      ]
     },
     "metadata": {
      "needs_background": "light"
     },
     "output_type": "display_data"
    }
   ],
   "source": [
    "plt.rcParams['font.sans-serif'] = ['SimHei']\n",
    "plt.figure(figsize=(18, 10))\n",
    "plt.title('回答点赞数——回答感谢数\\n', fontsize=18, color = 'red')\n",
    "plt.scatter(num_like, num_thank,s=100, c='g', marker='.', label='scatters') # s调节散点的大小\n",
    "plt.xticks(ticks=np.arange(0, 350000, 10000), fontsize=13)\n",
    "plt.yticks(ticks=np.arange(0, 150000, 10000), fontsize=13)\n",
    "plt.xlabel(\"\\n回答点赞数\", fontsize=20)\n",
    "plt.ylabel(\"回答感谢数\\n\", fontsize=20)\n",
    "plt.gca().xaxis.get_major_formatter().set_powerlimits((0, 1))\n",
    "plt.gca().yaxis.get_major_formatter().set_powerlimits((0, 1)) # use scientific notation !!!\n",
    "x = np.arange(0, 100000)\n",
    "y = np.arange(0, 100000)\n",
    "l, = plt.plot(x, y, linewidth=2.5, color='blue', linestyle='--', alpha=0.5, label='y = x')\n",
    "# if want to use the \"legend\" command, variables' name must end with a comma !!!\n",
    "plt.legend(handles=[l,], loc='best', prop={'size':28}) # use prop{} to control legend's size !!! \n",
    "plt.show()\n",
    "# 结论：大部分回答的点赞数多余感谢数；本次统计中的大部分回答点赞数在10000以内；基本上回答点赞数越多，回答感谢数也越多"
   ]
  },
  {
   "cell_type": "markdown",
   "metadata": {},
   "source": [
    "# 提取“task_3.1_zhihu_timeline_answer.csv”中【问题回答数】和【问题关注数】列数据，制成散点图， 观察两者的关系;"
   ]
  },
  {
   "cell_type": "code",
   "execution_count": 7,
   "metadata": {
    "ExecuteTime": {
     "end_time": "2020-02-08T08:18:07.301527Z",
     "start_time": "2020-02-08T08:18:07.298516Z"
    }
   },
   "outputs": [
    {
     "name": "stdout",
     "output_type": "stream",
     "text": [
      "[1607, 2505, 3527, 5751, 500, 636, 14628, 919, 437, 213]\n",
      "[30094, 57217, 28092, 28491, 19048, 3814, 129885, 15872, 117434, 3686]\n"
     ]
    }
   ],
   "source": [
    "num_answer = zhihu_data_answer['问题回答数'].values.tolist()\n",
    "num_attention = zhihu_data_answer['问题关注数'].values.tolist()\n",
    "print(num_answer[:10])\n",
    "print(num_attention[:10])"
   ]
  },
  {
   "cell_type": "code",
   "execution_count": 8,
   "metadata": {
    "ExecuteTime": {
     "end_time": "2020-02-08T08:18:07.643271Z",
     "start_time": "2020-02-08T08:18:07.303475Z"
    }
   },
   "outputs": [
    {
     "data": {
      "text/plain": [
       "<matplotlib.legend.Legend at 0x12d5596f6d8>"
      ]
     },
     "execution_count": 8,
     "metadata": {},
     "output_type": "execute_result"
    },
    {
     "data": {
      "image/png": "[encoded data removed]",
      "text/plain": [
       "<Figure size 1296x720 with 1 Axes>"
      ]
     },
     "metadata": {
      "needs_background": "light"
     },
     "output_type": "display_data"
    }
   ],
   "source": [
    "plt.figure(figsize=(18, 10))\n",
    "plt.title('问题关注数——问题回答数\\n', fontsize=18, color = 'red')\n",
    "plt.scatter(num_attention, num_answer, s=100, c='y', marker='o') # s调节散点的大小\n",
    "plt.xticks(ticks=np.arange(0, 350000, 20000), fontsize=18)\n",
    "plt.yticks(ticks=np.arange(0, 150000, 10000), fontsize=18)\n",
    "plt.gca().xaxis.get_major_formatter().set_powerlimits((0, 1))\n",
    "plt.gca().yaxis.get_major_formatter().set_powerlimits((0, 1))\n",
    "plt.xlabel(\"\\n问题关注数\", fontsize=20)\n",
    "plt.ylabel(\"问题回答数\\n\", fontsize=20)\n",
    "x = np.arange(0, 100000)\n",
    "y = np.arange(0, 100000)\n",
    "l2, = plt.plot(x, y, linewidth=2.5, color='blue', linestyle='--', alpha=0.5, label='y = x')\n",
    "plt.legend(handles=[l2,], loc='best', prop={'size': 20})\n",
    "# 结论： 几乎所有问题都是关注的人比回答问题的人多； 一个问题并不是关注的人越多，回答的人也越多，因为有些问题可能只有专业人员才能解答"
   ]
  },
  {
   "cell_type": "markdown",
   "metadata": {},
   "source": [
    "# 读取 CSV 格式文件“task_3.2_zhihu_timeline_article.csv”，将数据命名为 zhihu_data_article，并查看 前部数据;"
   ]
  },
  {
   "cell_type": "code",
   "execution_count": 9,
   "metadata": {
    "ExecuteTime": {
     "end_time": "2020-02-08T08:18:07.657651Z",
     "start_time": "2020-02-08T08:18:07.644228Z"
    }
   },
   "outputs": [
    {
     "data": {
      "text/html": [
       "<div>\n",
       "<style scoped>\n",
       "    .dataframe tbody tr th:only-of-type {\n",
       "        vertical-align: middle;\n",
       "    }\n",
       "\n",
       "    .dataframe tbody tr th {\n",
       "        vertical-align: top;\n",
       "    }\n",
       "\n",
       "    .dataframe thead th {\n",
       "        text-align: right;\n",
       "    }\n",
       "</style>\n",
       "<table border=\"1\" class=\"dataframe\">\n",
       "  <thead>\n",
       "    <tr style=\"text-align: right;\">\n",
       "      <th></th>\n",
       "      <th>类型</th>\n",
       "      <th>总 id</th>\n",
       "      <th>关键词</th>\n",
       "      <th>文章 id</th>\n",
       "      <th>文章点赞数</th>\n",
       "      <th>文章评论数</th>\n",
       "      <th>文章题目（文章没有感谢数）</th>\n",
       "      <th>文章观看数</th>\n",
       "      <th>文章创建时间</th>\n",
       "    </tr>\n",
       "  </thead>\n",
       "  <tbody>\n",
       "    <tr>\n",
       "      <td>0</td>\n",
       "      <td>article</td>\n",
       "      <td>14_1574825136.990</td>\n",
       "      <td>李小璐</td>\n",
       "      <td>90620737</td>\n",
       "      <td>774</td>\n",
       "      <td>267</td>\n",
       "      <td>“李小璐出轨视频曝光7天后，我识破了令人胆寒的爱情真相”</td>\n",
       "      <td>245037</td>\n",
       "      <td>1573089756</td>\n",
       "    </tr>\n",
       "    <tr>\n",
       "      <td>1</td>\n",
       "      <td>article</td>\n",
       "      <td>14_1574825137.717</td>\n",
       "      <td>主持人</td>\n",
       "      <td>90576308</td>\n",
       "      <td>25365</td>\n",
       "      <td>1157</td>\n",
       "      <td>谢娜与董卿同台被“碾压”: 文化断层到底有多可怕?</td>\n",
       "      <td>1072054</td>\n",
       "      <td>1573047546</td>\n",
       "    </tr>\n",
       "    <tr>\n",
       "      <td>2</td>\n",
       "      <td>article</td>\n",
       "      <td>13_1574825137.707</td>\n",
       "      <td>刘涛</td>\n",
       "      <td>92353372</td>\n",
       "      <td>339</td>\n",
       "      <td>65</td>\n",
       "      <td>刘涛，你够了！</td>\n",
       "      <td>215292</td>\n",
       "      <td>1574051699</td>\n",
       "    </tr>\n",
       "    <tr>\n",
       "      <td>3</td>\n",
       "      <td>article</td>\n",
       "      <td>14_1574825138.917</td>\n",
       "      <td>网贷风险</td>\n",
       "      <td>83742265</td>\n",
       "      <td>149</td>\n",
       "      <td>90</td>\n",
       "      <td>因面子，深陷网贷的我，最后这样上岸</td>\n",
       "      <td>63565</td>\n",
       "      <td>1569225309</td>\n",
       "    </tr>\n",
       "    <tr>\n",
       "      <td>4</td>\n",
       "      <td>article</td>\n",
       "      <td>16_1574825138.573</td>\n",
       "      <td>陈情令（电视剧）</td>\n",
       "      <td>93060585</td>\n",
       "      <td>38</td>\n",
       "      <td>1</td>\n",
       "      <td>你是什么样的含光君？浅析剧版与书版蓝忘机的差异</td>\n",
       "      <td>2779</td>\n",
       "      <td>1574349813</td>\n",
       "    </tr>\n",
       "    <tr>\n",
       "      <td>5</td>\n",
       "      <td>article</td>\n",
       "      <td>17_1574825138.599</td>\n",
       "      <td>苏州工业园区</td>\n",
       "      <td>79928477</td>\n",
       "      <td>305</td>\n",
       "      <td>200</td>\n",
       "      <td>怎么一夜之间，苏州得到那么多利好</td>\n",
       "      <td>68426</td>\n",
       "      <td>1566872402</td>\n",
       "    </tr>\n",
       "    <tr>\n",
       "      <td>6</td>\n",
       "      <td>article</td>\n",
       "      <td>15_1574825138.816</td>\n",
       "      <td>恋爱</td>\n",
       "      <td>92878279</td>\n",
       "      <td>417</td>\n",
       "      <td>48</td>\n",
       "      <td>“迷你犬让二哈意外怀孕”爆红韩国！网友：别告诉泰迪！！！</td>\n",
       "      <td>52939</td>\n",
       "      <td>1574285948</td>\n",
       "    </tr>\n",
       "    <tr>\n",
       "      <td>7</td>\n",
       "      <td>article</td>\n",
       "      <td>13_1574825139.517</td>\n",
       "      <td>郑爽</td>\n",
       "      <td>82297991</td>\n",
       "      <td>2864</td>\n",
       "      <td>234</td>\n",
       "      <td>郑爽公开卧室照片引热议：“性冷淡”的人生，真的很爽</td>\n",
       "      <td>864977</td>\n",
       "      <td>1568601919</td>\n",
       "    </tr>\n",
       "    <tr>\n",
       "      <td>8</td>\n",
       "      <td>article</td>\n",
       "      <td>16_1574825139.329</td>\n",
       "      <td>李小璐 &amp; PG_ONE（2017年末事件）</td>\n",
       "      <td>89554668</td>\n",
       "      <td>2736</td>\n",
       "      <td>95</td>\n",
       "      <td>李小璐PGone的事虽然很狗血，但跟这些圈内“奇葩恋”比起来还是差一点</td>\n",
       "      <td>925482</td>\n",
       "      <td>1572534003</td>\n",
       "    </tr>\n",
       "    <tr>\n",
       "      <td>9</td>\n",
       "      <td>article</td>\n",
       "      <td>16_1574825139.396</td>\n",
       "      <td>王者荣耀</td>\n",
       "      <td>91280246</td>\n",
       "      <td>171</td>\n",
       "      <td>15</td>\n",
       "      <td>王者荣耀：如何成为一名优秀打野？四点节奏/首要推塔/如何抓人/反野思路（详细分析）</td>\n",
       "      <td>5832</td>\n",
       "      <td>1573460504</td>\n",
       "    </tr>\n",
       "  </tbody>\n",
       "</table>\n",
       "</div>"
      ],
      "text/plain": [
       "        类型               总 id                     关键词     文章 id  文章点赞数  文章评论数  \\\n",
       "0  article  14_1574825136.990                     李小璐  90620737    774    267   \n",
       "1  article  14_1574825137.717                     主持人  90576308  25365   1157   \n",
       "2  article  13_1574825137.707                      刘涛  92353372    339     65   \n",
       "3  article  14_1574825138.917                    网贷风险  83742265    149     90   \n",
       "4  article  16_1574825138.573                陈情令（电视剧）  93060585     38      1   \n",
       "5  article  17_1574825138.599                  苏州工业园区  79928477    305    200   \n",
       "6  article  15_1574825138.816                      恋爱  92878279    417     48   \n",
       "7  article  13_1574825139.517                      郑爽  82297991   2864    234   \n",
       "8  article  16_1574825139.329  李小璐 & PG_ONE（2017年末事件）  89554668   2736     95   \n",
       "9  article  16_1574825139.396                    王者荣耀  91280246    171     15   \n",
       "\n",
       "                               文章题目（文章没有感谢数）    文章观看数      文章创建时间  \n",
       "0               “李小璐出轨视频曝光7天后，我识破了令人胆寒的爱情真相”   245037  1573089756  \n",
       "1                  谢娜与董卿同台被“碾压”: 文化断层到底有多可怕?  1072054  1573047546  \n",
       "2                                    刘涛，你够了！   215292  1574051699  \n",
       "3                          因面子，深陷网贷的我，最后这样上岸    63565  1569225309  \n",
       "4                    你是什么样的含光君？浅析剧版与书版蓝忘机的差异     2779  1574349813  \n",
       "5                           怎么一夜之间，苏州得到那么多利好    68426  1566872402  \n",
       "6               “迷你犬让二哈意外怀孕”爆红韩国！网友：别告诉泰迪！！！    52939  1574285948  \n",
       "7                  郑爽公开卧室照片引热议：“性冷淡”的人生，真的很爽   864977  1568601919  \n",
       "8        李小璐PGone的事虽然很狗血，但跟这些圈内“奇葩恋”比起来还是差一点   925482  1572534003  \n",
       "9  王者荣耀：如何成为一名优秀打野？四点节奏/首要推塔/如何抓人/反野思路（详细分析）     5832  1573460504  "
      ]
     },
     "execution_count": 9,
     "metadata": {},
     "output_type": "execute_result"
    }
   ],
   "source": [
    "with open('task_3.2_zhihu_timeline_article.csv', encoding='utf-8') as f:\n",
    "    zhihu_data_article = pd.read_csv(f)\n",
    "zhihu_data_article.head(10)"
   ]
  },
  {
   "cell_type": "markdown",
   "metadata": {},
   "source": [
    "# 提取“task_3.2_zhihu_timeline_article.csv”中【文章点赞数】和【文章评论数】列数据，制成散点图， 观察两者的关系;"
   ]
  },
  {
   "cell_type": "code",
   "execution_count": 10,
   "metadata": {
    "ExecuteTime": {
     "end_time": "2020-02-08T08:18:07.663571Z",
     "start_time": "2020-02-08T08:18:07.659108Z"
    }
   },
   "outputs": [
    {
     "name": "stdout",
     "output_type": "stream",
     "text": [
      "[774, 25365, 339, 149, 38, 305, 417, 2864, 2736, 171]\n",
      "[267, 1157, 65, 90, 1, 200, 48, 234, 95, 15]\n"
     ]
    }
   ],
   "source": [
    "num_like2 = zhihu_data_article['文章点赞数'].values.tolist()\n",
    "num_critic = zhihu_data_article['文章评论数'].values.tolist()\n",
    "print(num_like2[:10])\n",
    "print(num_critic[:10])"
   ]
  },
  {
   "cell_type": "code",
   "execution_count": 11,
   "metadata": {
    "ExecuteTime": {
     "end_time": "2020-02-08T08:18:07.844153Z",
     "start_time": "2020-02-08T08:18:07.664564Z"
    },
    "scrolled": true
   },
   "outputs": [
    {
     "data": {
      "image/png": "[encoded data removed]",
      "text/plain": [
       "<Figure size 1296x720 with 1 Axes>"
      ]
     },
     "metadata": {
      "needs_background": "light"
     },
     "output_type": "display_data"
    }
   ],
   "source": [
    "plt.figure(figsize=(18, 10))\n",
    "plt.title('文章点赞数——文章评论数\\n', color='red', fontsize=20)\n",
    "plt.scatter(num_like2, num_critic)\n",
    "plt.xticks(ticks=np.arange(0, 55000, 5000), fontsize=18)\n",
    "plt.yticks(ticks=np.arange(0, 5000, 500), fontsize=18)\n",
    "plt.xlabel('\\n文章点赞数', fontsize=18)\n",
    "plt.ylabel('文章评论数\\n', fontsize=18)\n",
    "x = np.arange(0, 5000)\n",
    "y = np.arange(0, 5000)\n",
    "l3, = plt.plot(x, y, linewidth=2.5, color='green', linestyle='--', alpha=0.5, label='y = x')\n",
    "plt.legend(handles=[l3,], loc='best', prop={'size': 20})\n",
    "plt.show()\n",
    "# 结论： 绝大多数读者喜欢“悄无声息”地点个赞就走，侧面体现了国内读者比较“内向”，有些羞于表达，不太愿意发表自己的观点。\n",
    "# 这可能与中国“填塞式”、“刷题式”的教育有关，随着点赞数量的增加，评论数却没有大幅上升，说明许多人有感受但不会表达，所以只能点个赞就溜。"
   ]
  },
  {
   "cell_type": "markdown",
   "metadata": {},
   "source": [
    "# 提取“task_3.2_zhihu_timeline_article.csv”中【文章点赞数】低于 1000 的行数据，作出箱型图(阅读参 考文章 5)"
   ]
  },
  {
   "cell_type": "code",
   "execution_count": 12,
   "metadata": {
    "ExecuteTime": {
     "end_time": "2020-02-08T08:18:07.855027Z",
     "start_time": "2020-02-08T08:18:07.845107Z"
    }
   },
   "outputs": [
    {
     "data": {
      "text/html": [
       "<div>\n",
       "<style scoped>\n",
       "    .dataframe tbody tr th:only-of-type {\n",
       "        vertical-align: middle;\n",
       "    }\n",
       "\n",
       "    .dataframe tbody tr th {\n",
       "        vertical-align: top;\n",
       "    }\n",
       "\n",
       "    .dataframe thead th {\n",
       "        text-align: right;\n",
       "    }\n",
       "</style>\n",
       "<table border=\"1\" class=\"dataframe\">\n",
       "  <thead>\n",
       "    <tr style=\"text-align: right;\">\n",
       "      <th></th>\n",
       "      <th>类型</th>\n",
       "      <th>总 id</th>\n",
       "      <th>关键词</th>\n",
       "      <th>文章 id</th>\n",
       "      <th>文章点赞数</th>\n",
       "      <th>文章评论数</th>\n",
       "      <th>文章题目（文章没有感谢数）</th>\n",
       "      <th>文章观看数</th>\n",
       "      <th>文章创建时间</th>\n",
       "    </tr>\n",
       "  </thead>\n",
       "  <tbody>\n",
       "    <tr>\n",
       "      <td>0</td>\n",
       "      <td>article</td>\n",
       "      <td>14_1574825136.990</td>\n",
       "      <td>李小璐</td>\n",
       "      <td>90620737</td>\n",
       "      <td>774</td>\n",
       "      <td>267</td>\n",
       "      <td>“李小璐出轨视频曝光7天后，我识破了令人胆寒的爱情真相”</td>\n",
       "      <td>245037</td>\n",
       "      <td>1573089756</td>\n",
       "    </tr>\n",
       "    <tr>\n",
       "      <td>2</td>\n",
       "      <td>article</td>\n",
       "      <td>13_1574825137.707</td>\n",
       "      <td>刘涛</td>\n",
       "      <td>92353372</td>\n",
       "      <td>339</td>\n",
       "      <td>65</td>\n",
       "      <td>刘涛，你够了！</td>\n",
       "      <td>215292</td>\n",
       "      <td>1574051699</td>\n",
       "    </tr>\n",
       "    <tr>\n",
       "      <td>3</td>\n",
       "      <td>article</td>\n",
       "      <td>14_1574825138.917</td>\n",
       "      <td>网贷风险</td>\n",
       "      <td>83742265</td>\n",
       "      <td>149</td>\n",
       "      <td>90</td>\n",
       "      <td>因面子，深陷网贷的我，最后这样上岸</td>\n",
       "      <td>63565</td>\n",
       "      <td>1569225309</td>\n",
       "    </tr>\n",
       "    <tr>\n",
       "      <td>4</td>\n",
       "      <td>article</td>\n",
       "      <td>16_1574825138.573</td>\n",
       "      <td>陈情令（电视剧）</td>\n",
       "      <td>93060585</td>\n",
       "      <td>38</td>\n",
       "      <td>1</td>\n",
       "      <td>你是什么样的含光君？浅析剧版与书版蓝忘机的差异</td>\n",
       "      <td>2779</td>\n",
       "      <td>1574349813</td>\n",
       "    </tr>\n",
       "    <tr>\n",
       "      <td>5</td>\n",
       "      <td>article</td>\n",
       "      <td>17_1574825138.599</td>\n",
       "      <td>苏州工业园区</td>\n",
       "      <td>79928477</td>\n",
       "      <td>305</td>\n",
       "      <td>200</td>\n",
       "      <td>怎么一夜之间，苏州得到那么多利好</td>\n",
       "      <td>68426</td>\n",
       "      <td>1566872402</td>\n",
       "    </tr>\n",
       "    <tr>\n",
       "      <td>6</td>\n",
       "      <td>article</td>\n",
       "      <td>15_1574825138.816</td>\n",
       "      <td>恋爱</td>\n",
       "      <td>92878279</td>\n",
       "      <td>417</td>\n",
       "      <td>48</td>\n",
       "      <td>“迷你犬让二哈意外怀孕”爆红韩国！网友：别告诉泰迪！！！</td>\n",
       "      <td>52939</td>\n",
       "      <td>1574285948</td>\n",
       "    </tr>\n",
       "    <tr>\n",
       "      <td>9</td>\n",
       "      <td>article</td>\n",
       "      <td>16_1574825139.396</td>\n",
       "      <td>王者荣耀</td>\n",
       "      <td>91280246</td>\n",
       "      <td>171</td>\n",
       "      <td>15</td>\n",
       "      <td>王者荣耀：如何成为一名优秀打野？四点节奏/首要推塔/如何抓人/反野思路（详细分析）</td>\n",
       "      <td>5832</td>\n",
       "      <td>1573460504</td>\n",
       "    </tr>\n",
       "    <tr>\n",
       "      <td>12</td>\n",
       "      <td>article</td>\n",
       "      <td>16_1574825141.769</td>\n",
       "      <td>随便看看</td>\n",
       "      <td>92161018</td>\n",
       "      <td>170</td>\n",
       "      <td>232</td>\n",
       "      <td>乳腺癌日志（1）：发现到确诊</td>\n",
       "      <td>56974</td>\n",
       "      <td>1573914962</td>\n",
       "    </tr>\n",
       "    <tr>\n",
       "      <td>15</td>\n",
       "      <td>article</td>\n",
       "      <td>16_1574825142.979</td>\n",
       "      <td>李诞</td>\n",
       "      <td>92630014</td>\n",
       "      <td>468</td>\n",
       "      <td>220</td>\n",
       "      <td>李诞，今天谢谢你，因为你让我们看到了人性虚伪的一面</td>\n",
       "      <td>122258</td>\n",
       "      <td>1574156116</td>\n",
       "    </tr>\n",
       "    <tr>\n",
       "      <td>16</td>\n",
       "      <td>article</td>\n",
       "      <td>17_1574825142.733</td>\n",
       "      <td>成都七中</td>\n",
       "      <td>91812432</td>\n",
       "      <td>521</td>\n",
       "      <td>292</td>\n",
       "      <td>成都七中难考吗？四川最厉害的高中为什么是成都七中？</td>\n",
       "      <td>115471</td>\n",
       "      <td>1573720298</td>\n",
       "    </tr>\n",
       "  </tbody>\n",
       "</table>\n",
       "</div>"
      ],
      "text/plain": [
       "         类型               总 id       关键词     文章 id  文章点赞数  文章评论数  \\\n",
       "0   article  14_1574825136.990       李小璐  90620737    774    267   \n",
       "2   article  13_1574825137.707        刘涛  92353372    339     65   \n",
       "3   article  14_1574825138.917      网贷风险  83742265    149     90   \n",
       "4   article  16_1574825138.573  陈情令（电视剧）  93060585     38      1   \n",
       "5   article  17_1574825138.599    苏州工业园区  79928477    305    200   \n",
       "6   article  15_1574825138.816        恋爱  92878279    417     48   \n",
       "9   article  16_1574825139.396      王者荣耀  91280246    171     15   \n",
       "12  article  16_1574825141.769      随便看看  92161018    170    232   \n",
       "15  article  16_1574825142.979        李诞  92630014    468    220   \n",
       "16  article  17_1574825142.733      成都七中  91812432    521    292   \n",
       "\n",
       "                                文章题目（文章没有感谢数）   文章观看数      文章创建时间  \n",
       "0                “李小璐出轨视频曝光7天后，我识破了令人胆寒的爱情真相”  245037  1573089756  \n",
       "2                                     刘涛，你够了！  215292  1574051699  \n",
       "3                           因面子，深陷网贷的我，最后这样上岸   63565  1569225309  \n",
       "4                     你是什么样的含光君？浅析剧版与书版蓝忘机的差异    2779  1574349813  \n",
       "5                            怎么一夜之间，苏州得到那么多利好   68426  1566872402  \n",
       "6                “迷你犬让二哈意外怀孕”爆红韩国！网友：别告诉泰迪！！！   52939  1574285948  \n",
       "9   王者荣耀：如何成为一名优秀打野？四点节奏/首要推塔/如何抓人/反野思路（详细分析）    5832  1573460504  \n",
       "12                             乳腺癌日志（1）：发现到确诊   56974  1573914962  \n",
       "15                  李诞，今天谢谢你，因为你让我们看到了人性虚伪的一面  122258  1574156116  \n",
       "16                  成都七中难考吗？四川最厉害的高中为什么是成都七中？  115471  1573720298  "
      ]
     },
     "execution_count": 12,
     "metadata": {},
     "output_type": "execute_result"
    }
   ],
   "source": [
    "info = zhihu_data_article.loc[(zhihu_data_article['文章点赞数'] < 1000)]\n",
    "info.head(10)"
   ]
  },
  {
   "cell_type": "code",
   "execution_count": 13,
   "metadata": {
    "ExecuteTime": {
     "end_time": "2020-02-08T08:18:07.995891Z",
     "start_time": "2020-02-08T08:18:07.856019Z"
    }
   },
   "outputs": [
    {
     "data": {
      "image/png": "[encoded data removed]",
      "text/plain": [
       "<Figure size 720x864 with 1 Axes>"
      ]
     },
     "metadata": {
      "needs_background": "light"
     },
     "output_type": "display_data"
    }
   ],
   "source": [
    "num_like3 = info['文章点赞数'].values.tolist()\n",
    "plt.figure(figsize=(10, 12))\n",
    "plt.title('文章点赞数箱形图', fontsize=18)\n",
    "plt.boxplot(num_like3, showmeans=True, showfliers=True)\n",
    "plt.yticks(ticks=np.arange(0, 1000, 50), fontsize=15)\n",
    "plt.xticks(fontsize=20)\n",
    "plt.ylabel(\"点赞数\\n\", fontsize=18)\n",
    "plt.show()"
   ]
  }
 ],
 "metadata": {
  "kernelspec": {
   "display_name": "Python 3",
   "language": "python",
   "name": "python3"
  },
  "language_info": {
   "codemirror_mode": {
    "name": "ipython",
    "version": 3
   },
   "file_extension": ".py",
   "mimetype": "text/x-python",
   "name": "python",
   "nbconvert_exporter": "python",
   "pygments_lexer": "ipython3",
   "version": "3.7.3"
  },
  "toc": {
   "base_numbering": 1,
   "nav_menu": {},
   "number_sections": true,
   "sideBar": true,
   "skip_h1_title": false,
   "title_cell": "Table of Contents",
   "title_sidebar": "Contents",
   "toc_cell": false,
   "toc_position": {},
   "toc_section_display": true,
   "toc_window_display": false
  }
 },
 "nbformat": 4,
 "nbformat_minor": 2
}
