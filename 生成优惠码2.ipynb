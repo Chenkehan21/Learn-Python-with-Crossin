{
 "cells": [
  {
   "cell_type": "code",
   "execution_count": 3,
   "metadata": {
    "ExecuteTime": {
     "end_time": "2020-01-28T09:49:19.102119Z",
     "start_time": "2020-01-28T09:49:19.095673Z"
    }
   },
   "outputs": [
    {
     "name": "stdout",
     "output_type": "stream",
     "text": [
      "YnubROBl\n",
      "uoVtwbIK\n",
      "zAxtbmWl\n",
      "nbJgljEB\n",
      "xaqNwCzp\n",
      "YSHwlioT\n",
      "REVYuMkA\n",
      "acOuZVeg\n",
      "IUKjgSMv\n",
      "RsYFTlfi\n",
      "IRJwdKcr\n",
      "JOVpfHtU\n",
      "ftHLbXwU\n",
      "UNszQYKX\n",
      "pBqgAJco\n",
      "jdtacIwU\n",
      "omcIGUsx\n",
      "GrKhWMJx\n",
      "nuegKGic\n",
      "tSxhVWdG\n"
     ]
    }
   ],
   "source": [
    "import random\n",
    "import string\n",
    "for i in range(20):\n",
    "    letters = list(string.ascii_letters)\n",
    "    random.shuffle(letters)\n",
    "    print(''.join(letters[:8]))"
   ]
  }
 ],
 "metadata": {
  "kernelspec": {
   "display_name": "Python 3",
   "language": "python",
   "name": "python3"
  },
  "language_info": {
   "codemirror_mode": {
    "name": "ipython",
    "version": 3
   },
   "file_extension": ".py",
   "mimetype": "text/x-python",
   "name": "python",
   "nbconvert_exporter": "python",
   "pygments_lexer": "ipython3",
   "version": "3.7.3"
  },
  "toc": {
   "base_numbering": 1,
   "nav_menu": {},
   "number_sections": true,
   "sideBar": true,
   "skip_h1_title": false,
   "title_cell": "Table of Contents",
   "title_sidebar": "Contents",
   "toc_cell": false,
   "toc_position": {},
   "toc_section_display": true,
   "toc_window_display": false
  }
 },
 "nbformat": 4,
 "nbformat_minor": 2
}
