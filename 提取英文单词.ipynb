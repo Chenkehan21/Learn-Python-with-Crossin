{
 "cells": [
  {
   "cell_type": "code",
   "execution_count": 9,
   "metadata": {
    "ExecuteTime": {
     "end_time": "2020-01-31T06:36:52.077726Z",
     "start_time": "2020-01-31T06:36:52.069800Z"
    }
   },
   "outputs": [
    {
     "name": "stdout",
     "output_type": "stream",
     "text": [
      "['Hello Mr.张，welcome you to 南京。']\n",
      "['Hello', 'Mr', 'welcome', 'you', 'to']\n",
      "['Hello', 'Mr', 'to', 'welcome', 'you']\n",
      "Hello\n",
      "Mr\n",
      "to\n",
      "welcome\n",
      "you\n"
     ]
    }
   ],
   "source": [
    "import re\n",
    "\n",
    "with open(\"zhengzehua.txt\", 'r') as f:\n",
    "    info = f.readlines()\n",
    "print(info)\n",
    "m = re.findall(r\"[A-z]+\", info[0])\n",
    "print(m)\n",
    "m2 = sorted(m)\n",
    "print(m2)\n",
    "with open(\"zhengzehua2.txt\", 'w') as f2:\n",
    "    for i in m2:\n",
    "        f2.writelines(i + '\\n')\n",
    "\n",
    "# a better way:\n",
    "m3 = '\\n'.join(m2)\n",
    "print(m3)\n",
    "with open(\"zhengzehua3.txt\", \"w\") as f3:\n",
    "    f3.write(m3)"
   ]
  }
 ],
 "metadata": {
  "kernelspec": {
   "display_name": "Python 3",
   "language": "python",
   "name": "python3"
  },
  "language_info": {
   "codemirror_mode": {
    "name": "ipython",
    "version": 3
   },
   "file_extension": ".py",
   "mimetype": "text/x-python",
   "name": "python",
   "nbconvert_exporter": "python",
   "pygments_lexer": "ipython3",
   "version": "3.7.3"
  },
  "toc": {
   "base_numbering": 1,
   "nav_menu": {},
   "number_sections": true,
   "sideBar": true,
   "skip_h1_title": false,
   "title_cell": "Table of Contents",
   "title_sidebar": "Contents",
   "toc_cell": false,
   "toc_position": {},
   "toc_section_display": true,
   "toc_window_display": false
  }
 },
 "nbformat": 4,
 "nbformat_minor": 2
}
